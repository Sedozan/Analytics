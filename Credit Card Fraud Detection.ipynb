{
 "cells": [
  {
   "cell_type": "markdown",
   "metadata": {},
   "source": [
    "## Project Overview\n",
    "The objective of this project is to model customers usual spending behavior and location to systematically identify fraudulent spendings from the non-fraudulent ones. The dataset used for this project contains transactions made by european credit cardholders over a period of 2 days in September 2013."
   ]
  },
  {
   "cell_type": "markdown",
   "metadata": {},
   "source": [
    "#### What is the approach?\n",
    "1. Conduct a descriptive analysis of the data and determine if data cleaning is needed\n",
    "2. Process data for analysis - cleaning and preparation for modeling phase\n",
    "3. Data exploration\n",
    "4. Model the data - Try the following modeling techniques: Logistic Regression, SVM, Decision Trees, Random Forest, XGBoost, and Artificial Neural Networks\n",
    "7. Determine the most skilful model that best model the data\n",
    "8. Choose a threshold that gives a desirable balance of the false positives and false negatives\n",
    "6. Formulate results"
   ]
  },
  {
   "cell_type": "code",
   "execution_count": 73,
   "metadata": {},
   "outputs": [],
   "source": [
    "# Importing the dependencies\n",
    "\n",
    "import pandas as pd\n",
    "import numpy as np\n",
    "import xgboost as xgb\n",
    "from sklearn.model_selection import train_test_split\n",
    "from sklearn.ensemble import RandomForestRegressor\n",
    "from sklearn.metrics import mean_absolute_error\n",
    "from sklearn.model_selection import train_test_split\n",
    "from sklearn.tree import DecisionTreeRegressor\n",
    "from sklearn.ensemble import RandomForestClassifier\n",
    "from sklearn.linear_model import LogisticRegression\n",
    "from xgboost import XGBClassifier\n",
    "from sklearn.datasets import make_classification\n",
    "from sklearn.metrics import confusion_matrix\n",
    "from sklearn.metrics import classification_report\n",
    "from sklearn.metrics import precision_score, recall_score\n",
    "from sklearn.metrics import f1_score\n",
    "from sklearn.metrics import roc_curve\n",
    "from sklearn.metrics import roc_auc_score\n",
    "from sklearn.metrics import precision_recall_curve\n",
    "from sklearn.metrics import auc\n",
    "from sklearn import metrics\n",
    "from sklearn.metrics import accuracy_score\n",
    "from matplotlib import pyplot\n",
    "import matplotlib.pyplot as plt\n",
    "import seaborn as sns\n",
    "sns.set()\n",
    "%matplotlib inline"
   ]
  },
  {
   "cell_type": "code",
   "execution_count": 38,
   "metadata": {},
   "outputs": [],
   "source": [
    "# Loading the data\n",
    "df = pd.read_csv(r'c:\\Users\\mseno\\Desktop\\Credit Card Project\\Creditcard.csv')\n"
   ]
  },
  {
   "cell_type": "markdown",
   "metadata": {},
   "source": [
    "### Data Exploration"
   ]
  },
  {
   "cell_type": "code",
   "execution_count": 3,
   "metadata": {},
   "outputs": [
    {
     "name": "stdout",
     "output_type": "stream",
     "text": [
      "(284807, 31)\n"
     ]
    },
    {
     "data": {
      "text/html": [
       "<div>\n",
       "<style scoped>\n",
       "    .dataframe tbody tr th:only-of-type {\n",
       "        vertical-align: middle;\n",
       "    }\n",
       "\n",
       "    .dataframe tbody tr th {\n",
       "        vertical-align: top;\n",
       "    }\n",
       "\n",
       "    .dataframe thead th {\n",
       "        text-align: right;\n",
       "    }\n",
       "</style>\n",
       "<table border=\"1\" class=\"dataframe\">\n",
       "  <thead>\n",
       "    <tr style=\"text-align: right;\">\n",
       "      <th></th>\n",
       "      <th>Time</th>\n",
       "      <th>V1</th>\n",
       "      <th>V2</th>\n",
       "      <th>V3</th>\n",
       "      <th>V4</th>\n",
       "      <th>V5</th>\n",
       "      <th>V6</th>\n",
       "      <th>V7</th>\n",
       "      <th>V8</th>\n",
       "      <th>V9</th>\n",
       "      <th>...</th>\n",
       "      <th>V21</th>\n",
       "      <th>V22</th>\n",
       "      <th>V23</th>\n",
       "      <th>V24</th>\n",
       "      <th>V25</th>\n",
       "      <th>V26</th>\n",
       "      <th>V27</th>\n",
       "      <th>V28</th>\n",
       "      <th>Amount</th>\n",
       "      <th>Class</th>\n",
       "    </tr>\n",
       "  </thead>\n",
       "  <tbody>\n",
       "    <tr>\n",
       "      <th>0</th>\n",
       "      <td>0.0</td>\n",
       "      <td>-1.359807</td>\n",
       "      <td>-0.072781</td>\n",
       "      <td>2.536347</td>\n",
       "      <td>1.378155</td>\n",
       "      <td>-0.338321</td>\n",
       "      <td>0.462388</td>\n",
       "      <td>0.239599</td>\n",
       "      <td>0.098698</td>\n",
       "      <td>0.363787</td>\n",
       "      <td>...</td>\n",
       "      <td>-0.018307</td>\n",
       "      <td>0.277838</td>\n",
       "      <td>-0.110474</td>\n",
       "      <td>0.066928</td>\n",
       "      <td>0.128539</td>\n",
       "      <td>-0.189115</td>\n",
       "      <td>0.133558</td>\n",
       "      <td>-0.021053</td>\n",
       "      <td>149.62</td>\n",
       "      <td>0</td>\n",
       "    </tr>\n",
       "    <tr>\n",
       "      <th>1</th>\n",
       "      <td>0.0</td>\n",
       "      <td>1.191857</td>\n",
       "      <td>0.266151</td>\n",
       "      <td>0.166480</td>\n",
       "      <td>0.448154</td>\n",
       "      <td>0.060018</td>\n",
       "      <td>-0.082361</td>\n",
       "      <td>-0.078803</td>\n",
       "      <td>0.085102</td>\n",
       "      <td>-0.255425</td>\n",
       "      <td>...</td>\n",
       "      <td>-0.225775</td>\n",
       "      <td>-0.638672</td>\n",
       "      <td>0.101288</td>\n",
       "      <td>-0.339846</td>\n",
       "      <td>0.167170</td>\n",
       "      <td>0.125895</td>\n",
       "      <td>-0.008983</td>\n",
       "      <td>0.014724</td>\n",
       "      <td>2.69</td>\n",
       "      <td>0</td>\n",
       "    </tr>\n",
       "    <tr>\n",
       "      <th>2</th>\n",
       "      <td>1.0</td>\n",
       "      <td>-1.358354</td>\n",
       "      <td>-1.340163</td>\n",
       "      <td>1.773209</td>\n",
       "      <td>0.379780</td>\n",
       "      <td>-0.503198</td>\n",
       "      <td>1.800499</td>\n",
       "      <td>0.791461</td>\n",
       "      <td>0.247676</td>\n",
       "      <td>-1.514654</td>\n",
       "      <td>...</td>\n",
       "      <td>0.247998</td>\n",
       "      <td>0.771679</td>\n",
       "      <td>0.909412</td>\n",
       "      <td>-0.689281</td>\n",
       "      <td>-0.327642</td>\n",
       "      <td>-0.139097</td>\n",
       "      <td>-0.055353</td>\n",
       "      <td>-0.059752</td>\n",
       "      <td>378.66</td>\n",
       "      <td>0</td>\n",
       "    </tr>\n",
       "    <tr>\n",
       "      <th>3</th>\n",
       "      <td>1.0</td>\n",
       "      <td>-0.966272</td>\n",
       "      <td>-0.185226</td>\n",
       "      <td>1.792993</td>\n",
       "      <td>-0.863291</td>\n",
       "      <td>-0.010309</td>\n",
       "      <td>1.247203</td>\n",
       "      <td>0.237609</td>\n",
       "      <td>0.377436</td>\n",
       "      <td>-1.387024</td>\n",
       "      <td>...</td>\n",
       "      <td>-0.108300</td>\n",
       "      <td>0.005274</td>\n",
       "      <td>-0.190321</td>\n",
       "      <td>-1.175575</td>\n",
       "      <td>0.647376</td>\n",
       "      <td>-0.221929</td>\n",
       "      <td>0.062723</td>\n",
       "      <td>0.061458</td>\n",
       "      <td>123.50</td>\n",
       "      <td>0</td>\n",
       "    </tr>\n",
       "    <tr>\n",
       "      <th>4</th>\n",
       "      <td>2.0</td>\n",
       "      <td>-1.158233</td>\n",
       "      <td>0.877737</td>\n",
       "      <td>1.548718</td>\n",
       "      <td>0.403034</td>\n",
       "      <td>-0.407193</td>\n",
       "      <td>0.095921</td>\n",
       "      <td>0.592941</td>\n",
       "      <td>-0.270533</td>\n",
       "      <td>0.817739</td>\n",
       "      <td>...</td>\n",
       "      <td>-0.009431</td>\n",
       "      <td>0.798278</td>\n",
       "      <td>-0.137458</td>\n",
       "      <td>0.141267</td>\n",
       "      <td>-0.206010</td>\n",
       "      <td>0.502292</td>\n",
       "      <td>0.219422</td>\n",
       "      <td>0.215153</td>\n",
       "      <td>69.99</td>\n",
       "      <td>0</td>\n",
       "    </tr>\n",
       "  </tbody>\n",
       "</table>\n",
       "<p>5 rows × 31 columns</p>\n",
       "</div>"
      ],
      "text/plain": [
       "   Time        V1        V2        V3        V4        V5        V6        V7  \\\n",
       "0   0.0 -1.359807 -0.072781  2.536347  1.378155 -0.338321  0.462388  0.239599   \n",
       "1   0.0  1.191857  0.266151  0.166480  0.448154  0.060018 -0.082361 -0.078803   \n",
       "2   1.0 -1.358354 -1.340163  1.773209  0.379780 -0.503198  1.800499  0.791461   \n",
       "3   1.0 -0.966272 -0.185226  1.792993 -0.863291 -0.010309  1.247203  0.237609   \n",
       "4   2.0 -1.158233  0.877737  1.548718  0.403034 -0.407193  0.095921  0.592941   \n",
       "\n",
       "         V8        V9  ...       V21       V22       V23       V24       V25  \\\n",
       "0  0.098698  0.363787  ... -0.018307  0.277838 -0.110474  0.066928  0.128539   \n",
       "1  0.085102 -0.255425  ... -0.225775 -0.638672  0.101288 -0.339846  0.167170   \n",
       "2  0.247676 -1.514654  ...  0.247998  0.771679  0.909412 -0.689281 -0.327642   \n",
       "3  0.377436 -1.387024  ... -0.108300  0.005274 -0.190321 -1.175575  0.647376   \n",
       "4 -0.270533  0.817739  ... -0.009431  0.798278 -0.137458  0.141267 -0.206010   \n",
       "\n",
       "        V26       V27       V28  Amount  Class  \n",
       "0 -0.189115  0.133558 -0.021053  149.62      0  \n",
       "1  0.125895 -0.008983  0.014724    2.69      0  \n",
       "2 -0.139097 -0.055353 -0.059752  378.66      0  \n",
       "3 -0.221929  0.062723  0.061458  123.50      0  \n",
       "4  0.502292  0.219422  0.215153   69.99      0  \n",
       "\n",
       "[5 rows x 31 columns]"
      ]
     },
     "execution_count": 3,
     "metadata": {},
     "output_type": "execute_result"
    }
   ],
   "source": [
    "# High-level view of the data\n",
    "print(df.shape)\n",
    "df.head()"
   ]
  },
  {
   "cell_type": "code",
   "execution_count": 4,
   "metadata": {},
   "outputs": [
    {
     "name": "stdout",
     "output_type": "stream",
     "text": [
      "<class 'pandas.core.frame.DataFrame'>\n",
      "RangeIndex: 284807 entries, 0 to 284806\n",
      "Data columns (total 31 columns):\n",
      " #   Column  Non-Null Count   Dtype  \n",
      "---  ------  --------------   -----  \n",
      " 0   Time    284807 non-null  float64\n",
      " 1   V1      284807 non-null  float64\n",
      " 2   V2      284807 non-null  float64\n",
      " 3   V3      284807 non-null  float64\n",
      " 4   V4      284807 non-null  float64\n",
      " 5   V5      284807 non-null  float64\n",
      " 6   V6      284807 non-null  float64\n",
      " 7   V7      284807 non-null  float64\n",
      " 8   V8      284807 non-null  float64\n",
      " 9   V9      284807 non-null  float64\n",
      " 10  V10     284807 non-null  float64\n",
      " 11  V11     284807 non-null  float64\n",
      " 12  V12     284807 non-null  float64\n",
      " 13  V13     284807 non-null  float64\n",
      " 14  V14     284807 non-null  float64\n",
      " 15  V15     284807 non-null  float64\n",
      " 16  V16     284807 non-null  float64\n",
      " 17  V17     284807 non-null  float64\n",
      " 18  V18     284807 non-null  float64\n",
      " 19  V19     284807 non-null  float64\n",
      " 20  V20     284807 non-null  float64\n",
      " 21  V21     284807 non-null  float64\n",
      " 22  V22     284807 non-null  float64\n",
      " 23  V23     284807 non-null  float64\n",
      " 24  V24     284807 non-null  float64\n",
      " 25  V25     284807 non-null  float64\n",
      " 26  V26     284807 non-null  float64\n",
      " 27  V27     284807 non-null  float64\n",
      " 28  V28     284807 non-null  float64\n",
      " 29  Amount  284807 non-null  float64\n",
      " 30  Class   284807 non-null  int64  \n",
      "dtypes: float64(30), int64(1)\n",
      "memory usage: 67.4 MB\n"
     ]
    },
    {
     "data": {
      "text/plain": [
       "Index(['Time', 'V1', 'V2', 'V3', 'V4', 'V5', 'V6', 'V7', 'V8', 'V9', 'V10',\n",
       "       'V11', 'V12', 'V13', 'V14', 'V15', 'V16', 'V17', 'V18', 'V19', 'V20',\n",
       "       'V21', 'V22', 'V23', 'V24', 'V25', 'V26', 'V27', 'V28', 'Amount',\n",
       "       'Class'],\n",
       "      dtype='object')"
      ]
     },
     "execution_count": 4,
     "metadata": {},
     "output_type": "execute_result"
    }
   ],
   "source": [
    "# Look into the metadata\n",
    "df.info() #We do not have any missing values\n",
    "df.columns"
   ]
  },
  {
   "cell_type": "code",
   "execution_count": 5,
   "metadata": {},
   "outputs": [
    {
     "data": {
      "text/html": [
       "<div>\n",
       "<style scoped>\n",
       "    .dataframe tbody tr th:only-of-type {\n",
       "        vertical-align: middle;\n",
       "    }\n",
       "\n",
       "    .dataframe tbody tr th {\n",
       "        vertical-align: top;\n",
       "    }\n",
       "\n",
       "    .dataframe thead th {\n",
       "        text-align: right;\n",
       "    }\n",
       "</style>\n",
       "<table border=\"1\" class=\"dataframe\">\n",
       "  <thead>\n",
       "    <tr style=\"text-align: right;\">\n",
       "      <th></th>\n",
       "      <th>Time</th>\n",
       "      <th>V1</th>\n",
       "      <th>V2</th>\n",
       "      <th>V3</th>\n",
       "      <th>V4</th>\n",
       "      <th>V5</th>\n",
       "      <th>V6</th>\n",
       "      <th>V7</th>\n",
       "      <th>V8</th>\n",
       "      <th>V9</th>\n",
       "      <th>...</th>\n",
       "      <th>V21</th>\n",
       "      <th>V22</th>\n",
       "      <th>V23</th>\n",
       "      <th>V24</th>\n",
       "      <th>V25</th>\n",
       "      <th>V26</th>\n",
       "      <th>V27</th>\n",
       "      <th>V28</th>\n",
       "      <th>Amount</th>\n",
       "      <th>Class</th>\n",
       "    </tr>\n",
       "  </thead>\n",
       "  <tbody>\n",
       "    <tr>\n",
       "      <th>count</th>\n",
       "      <td>284807.000000</td>\n",
       "      <td>2.848070e+05</td>\n",
       "      <td>2.848070e+05</td>\n",
       "      <td>2.848070e+05</td>\n",
       "      <td>2.848070e+05</td>\n",
       "      <td>2.848070e+05</td>\n",
       "      <td>2.848070e+05</td>\n",
       "      <td>2.848070e+05</td>\n",
       "      <td>2.848070e+05</td>\n",
       "      <td>2.848070e+05</td>\n",
       "      <td>...</td>\n",
       "      <td>2.848070e+05</td>\n",
       "      <td>2.848070e+05</td>\n",
       "      <td>2.848070e+05</td>\n",
       "      <td>2.848070e+05</td>\n",
       "      <td>2.848070e+05</td>\n",
       "      <td>2.848070e+05</td>\n",
       "      <td>2.848070e+05</td>\n",
       "      <td>2.848070e+05</td>\n",
       "      <td>284807.000000</td>\n",
       "      <td>284807.000000</td>\n",
       "    </tr>\n",
       "    <tr>\n",
       "      <th>mean</th>\n",
       "      <td>94813.859575</td>\n",
       "      <td>3.919560e-15</td>\n",
       "      <td>5.688174e-16</td>\n",
       "      <td>-8.769071e-15</td>\n",
       "      <td>2.782312e-15</td>\n",
       "      <td>-1.552563e-15</td>\n",
       "      <td>2.010663e-15</td>\n",
       "      <td>-1.694249e-15</td>\n",
       "      <td>-1.927028e-16</td>\n",
       "      <td>-3.137024e-15</td>\n",
       "      <td>...</td>\n",
       "      <td>1.537294e-16</td>\n",
       "      <td>7.959909e-16</td>\n",
       "      <td>5.367590e-16</td>\n",
       "      <td>4.458112e-15</td>\n",
       "      <td>1.453003e-15</td>\n",
       "      <td>1.699104e-15</td>\n",
       "      <td>-3.660161e-16</td>\n",
       "      <td>-1.206049e-16</td>\n",
       "      <td>88.349619</td>\n",
       "      <td>0.001727</td>\n",
       "    </tr>\n",
       "    <tr>\n",
       "      <th>std</th>\n",
       "      <td>47488.145955</td>\n",
       "      <td>1.958696e+00</td>\n",
       "      <td>1.651309e+00</td>\n",
       "      <td>1.516255e+00</td>\n",
       "      <td>1.415869e+00</td>\n",
       "      <td>1.380247e+00</td>\n",
       "      <td>1.332271e+00</td>\n",
       "      <td>1.237094e+00</td>\n",
       "      <td>1.194353e+00</td>\n",
       "      <td>1.098632e+00</td>\n",
       "      <td>...</td>\n",
       "      <td>7.345240e-01</td>\n",
       "      <td>7.257016e-01</td>\n",
       "      <td>6.244603e-01</td>\n",
       "      <td>6.056471e-01</td>\n",
       "      <td>5.212781e-01</td>\n",
       "      <td>4.822270e-01</td>\n",
       "      <td>4.036325e-01</td>\n",
       "      <td>3.300833e-01</td>\n",
       "      <td>250.120109</td>\n",
       "      <td>0.041527</td>\n",
       "    </tr>\n",
       "    <tr>\n",
       "      <th>min</th>\n",
       "      <td>0.000000</td>\n",
       "      <td>-5.640751e+01</td>\n",
       "      <td>-7.271573e+01</td>\n",
       "      <td>-4.832559e+01</td>\n",
       "      <td>-5.683171e+00</td>\n",
       "      <td>-1.137433e+02</td>\n",
       "      <td>-2.616051e+01</td>\n",
       "      <td>-4.355724e+01</td>\n",
       "      <td>-7.321672e+01</td>\n",
       "      <td>-1.343407e+01</td>\n",
       "      <td>...</td>\n",
       "      <td>-3.483038e+01</td>\n",
       "      <td>-1.093314e+01</td>\n",
       "      <td>-4.480774e+01</td>\n",
       "      <td>-2.836627e+00</td>\n",
       "      <td>-1.029540e+01</td>\n",
       "      <td>-2.604551e+00</td>\n",
       "      <td>-2.256568e+01</td>\n",
       "      <td>-1.543008e+01</td>\n",
       "      <td>0.000000</td>\n",
       "      <td>0.000000</td>\n",
       "    </tr>\n",
       "    <tr>\n",
       "      <th>25%</th>\n",
       "      <td>54201.500000</td>\n",
       "      <td>-9.203734e-01</td>\n",
       "      <td>-5.985499e-01</td>\n",
       "      <td>-8.903648e-01</td>\n",
       "      <td>-8.486401e-01</td>\n",
       "      <td>-6.915971e-01</td>\n",
       "      <td>-7.682956e-01</td>\n",
       "      <td>-5.540759e-01</td>\n",
       "      <td>-2.086297e-01</td>\n",
       "      <td>-6.430976e-01</td>\n",
       "      <td>...</td>\n",
       "      <td>-2.283949e-01</td>\n",
       "      <td>-5.423504e-01</td>\n",
       "      <td>-1.618463e-01</td>\n",
       "      <td>-3.545861e-01</td>\n",
       "      <td>-3.171451e-01</td>\n",
       "      <td>-3.269839e-01</td>\n",
       "      <td>-7.083953e-02</td>\n",
       "      <td>-5.295979e-02</td>\n",
       "      <td>5.600000</td>\n",
       "      <td>0.000000</td>\n",
       "    </tr>\n",
       "    <tr>\n",
       "      <th>50%</th>\n",
       "      <td>84692.000000</td>\n",
       "      <td>1.810880e-02</td>\n",
       "      <td>6.548556e-02</td>\n",
       "      <td>1.798463e-01</td>\n",
       "      <td>-1.984653e-02</td>\n",
       "      <td>-5.433583e-02</td>\n",
       "      <td>-2.741871e-01</td>\n",
       "      <td>4.010308e-02</td>\n",
       "      <td>2.235804e-02</td>\n",
       "      <td>-5.142873e-02</td>\n",
       "      <td>...</td>\n",
       "      <td>-2.945017e-02</td>\n",
       "      <td>6.781943e-03</td>\n",
       "      <td>-1.119293e-02</td>\n",
       "      <td>4.097606e-02</td>\n",
       "      <td>1.659350e-02</td>\n",
       "      <td>-5.213911e-02</td>\n",
       "      <td>1.342146e-03</td>\n",
       "      <td>1.124383e-02</td>\n",
       "      <td>22.000000</td>\n",
       "      <td>0.000000</td>\n",
       "    </tr>\n",
       "    <tr>\n",
       "      <th>75%</th>\n",
       "      <td>139320.500000</td>\n",
       "      <td>1.315642e+00</td>\n",
       "      <td>8.037239e-01</td>\n",
       "      <td>1.027196e+00</td>\n",
       "      <td>7.433413e-01</td>\n",
       "      <td>6.119264e-01</td>\n",
       "      <td>3.985649e-01</td>\n",
       "      <td>5.704361e-01</td>\n",
       "      <td>3.273459e-01</td>\n",
       "      <td>5.971390e-01</td>\n",
       "      <td>...</td>\n",
       "      <td>1.863772e-01</td>\n",
       "      <td>5.285536e-01</td>\n",
       "      <td>1.476421e-01</td>\n",
       "      <td>4.395266e-01</td>\n",
       "      <td>3.507156e-01</td>\n",
       "      <td>2.409522e-01</td>\n",
       "      <td>9.104512e-02</td>\n",
       "      <td>7.827995e-02</td>\n",
       "      <td>77.165000</td>\n",
       "      <td>0.000000</td>\n",
       "    </tr>\n",
       "    <tr>\n",
       "      <th>max</th>\n",
       "      <td>172792.000000</td>\n",
       "      <td>2.454930e+00</td>\n",
       "      <td>2.205773e+01</td>\n",
       "      <td>9.382558e+00</td>\n",
       "      <td>1.687534e+01</td>\n",
       "      <td>3.480167e+01</td>\n",
       "      <td>7.330163e+01</td>\n",
       "      <td>1.205895e+02</td>\n",
       "      <td>2.000721e+01</td>\n",
       "      <td>1.559499e+01</td>\n",
       "      <td>...</td>\n",
       "      <td>2.720284e+01</td>\n",
       "      <td>1.050309e+01</td>\n",
       "      <td>2.252841e+01</td>\n",
       "      <td>4.584549e+00</td>\n",
       "      <td>7.519589e+00</td>\n",
       "      <td>3.517346e+00</td>\n",
       "      <td>3.161220e+01</td>\n",
       "      <td>3.384781e+01</td>\n",
       "      <td>25691.160000</td>\n",
       "      <td>1.000000</td>\n",
       "    </tr>\n",
       "  </tbody>\n",
       "</table>\n",
       "<p>8 rows × 31 columns</p>\n",
       "</div>"
      ],
      "text/plain": [
       "                Time            V1            V2            V3            V4  \\\n",
       "count  284807.000000  2.848070e+05  2.848070e+05  2.848070e+05  2.848070e+05   \n",
       "mean    94813.859575  3.919560e-15  5.688174e-16 -8.769071e-15  2.782312e-15   \n",
       "std     47488.145955  1.958696e+00  1.651309e+00  1.516255e+00  1.415869e+00   \n",
       "min         0.000000 -5.640751e+01 -7.271573e+01 -4.832559e+01 -5.683171e+00   \n",
       "25%     54201.500000 -9.203734e-01 -5.985499e-01 -8.903648e-01 -8.486401e-01   \n",
       "50%     84692.000000  1.810880e-02  6.548556e-02  1.798463e-01 -1.984653e-02   \n",
       "75%    139320.500000  1.315642e+00  8.037239e-01  1.027196e+00  7.433413e-01   \n",
       "max    172792.000000  2.454930e+00  2.205773e+01  9.382558e+00  1.687534e+01   \n",
       "\n",
       "                 V5            V6            V7            V8            V9  \\\n",
       "count  2.848070e+05  2.848070e+05  2.848070e+05  2.848070e+05  2.848070e+05   \n",
       "mean  -1.552563e-15  2.010663e-15 -1.694249e-15 -1.927028e-16 -3.137024e-15   \n",
       "std    1.380247e+00  1.332271e+00  1.237094e+00  1.194353e+00  1.098632e+00   \n",
       "min   -1.137433e+02 -2.616051e+01 -4.355724e+01 -7.321672e+01 -1.343407e+01   \n",
       "25%   -6.915971e-01 -7.682956e-01 -5.540759e-01 -2.086297e-01 -6.430976e-01   \n",
       "50%   -5.433583e-02 -2.741871e-01  4.010308e-02  2.235804e-02 -5.142873e-02   \n",
       "75%    6.119264e-01  3.985649e-01  5.704361e-01  3.273459e-01  5.971390e-01   \n",
       "max    3.480167e+01  7.330163e+01  1.205895e+02  2.000721e+01  1.559499e+01   \n",
       "\n",
       "       ...           V21           V22           V23           V24  \\\n",
       "count  ...  2.848070e+05  2.848070e+05  2.848070e+05  2.848070e+05   \n",
       "mean   ...  1.537294e-16  7.959909e-16  5.367590e-16  4.458112e-15   \n",
       "std    ...  7.345240e-01  7.257016e-01  6.244603e-01  6.056471e-01   \n",
       "min    ... -3.483038e+01 -1.093314e+01 -4.480774e+01 -2.836627e+00   \n",
       "25%    ... -2.283949e-01 -5.423504e-01 -1.618463e-01 -3.545861e-01   \n",
       "50%    ... -2.945017e-02  6.781943e-03 -1.119293e-02  4.097606e-02   \n",
       "75%    ...  1.863772e-01  5.285536e-01  1.476421e-01  4.395266e-01   \n",
       "max    ...  2.720284e+01  1.050309e+01  2.252841e+01  4.584549e+00   \n",
       "\n",
       "                V25           V26           V27           V28         Amount  \\\n",
       "count  2.848070e+05  2.848070e+05  2.848070e+05  2.848070e+05  284807.000000   \n",
       "mean   1.453003e-15  1.699104e-15 -3.660161e-16 -1.206049e-16      88.349619   \n",
       "std    5.212781e-01  4.822270e-01  4.036325e-01  3.300833e-01     250.120109   \n",
       "min   -1.029540e+01 -2.604551e+00 -2.256568e+01 -1.543008e+01       0.000000   \n",
       "25%   -3.171451e-01 -3.269839e-01 -7.083953e-02 -5.295979e-02       5.600000   \n",
       "50%    1.659350e-02 -5.213911e-02  1.342146e-03  1.124383e-02      22.000000   \n",
       "75%    3.507156e-01  2.409522e-01  9.104512e-02  7.827995e-02      77.165000   \n",
       "max    7.519589e+00  3.517346e+00  3.161220e+01  3.384781e+01   25691.160000   \n",
       "\n",
       "               Class  \n",
       "count  284807.000000  \n",
       "mean        0.001727  \n",
       "std         0.041527  \n",
       "min         0.000000  \n",
       "25%         0.000000  \n",
       "50%         0.000000  \n",
       "75%         0.000000  \n",
       "max         1.000000  \n",
       "\n",
       "[8 rows x 31 columns]"
      ]
     },
     "execution_count": 5,
     "metadata": {},
     "output_type": "execute_result"
    }
   ],
   "source": [
    "# Some basic statistics about the data elements\n",
    "df.describe()"
   ]
  },
  {
   "cell_type": "code",
   "execution_count": 6,
   "metadata": {},
   "outputs": [
    {
     "data": {
      "text/plain": [
       "Time      94813.859575\n",
       "Amount       88.349619\n",
       "dtype: float64"
      ]
     },
     "execution_count": 6,
     "metadata": {},
     "output_type": "execute_result"
    }
   ],
   "source": [
    "# Average of variables \"time\" and \"amount\"\n",
    "df[[\"Time\", \"Amount\"]].mean()\n"
   ]
  },
  {
   "cell_type": "code",
   "execution_count": 7,
   "metadata": {},
   "outputs": [
    {
     "data": {
      "text/html": [
       "<div>\n",
       "<style scoped>\n",
       "    .dataframe tbody tr th:only-of-type {\n",
       "        vertical-align: middle;\n",
       "    }\n",
       "\n",
       "    .dataframe tbody tr th {\n",
       "        vertical-align: top;\n",
       "    }\n",
       "\n",
       "    .dataframe thead th {\n",
       "        text-align: right;\n",
       "    }\n",
       "</style>\n",
       "<table border=\"1\" class=\"dataframe\">\n",
       "  <thead>\n",
       "    <tr style=\"text-align: right;\">\n",
       "      <th></th>\n",
       "      <th>Time</th>\n",
       "      <th>Amount</th>\n",
       "    </tr>\n",
       "  </thead>\n",
       "  <tbody>\n",
       "    <tr>\n",
       "      <th>max</th>\n",
       "      <td>172792.000000</td>\n",
       "      <td>25691.160000</td>\n",
       "    </tr>\n",
       "    <tr>\n",
       "      <th>mean</th>\n",
       "      <td>NaN</td>\n",
       "      <td>88.349619</td>\n",
       "    </tr>\n",
       "    <tr>\n",
       "      <th>median</th>\n",
       "      <td>84692.000000</td>\n",
       "      <td>22.000000</td>\n",
       "    </tr>\n",
       "    <tr>\n",
       "      <th>min</th>\n",
       "      <td>0.000000</td>\n",
       "      <td>0.000000</td>\n",
       "    </tr>\n",
       "    <tr>\n",
       "      <th>skew</th>\n",
       "      <td>-0.035568</td>\n",
       "      <td>NaN</td>\n",
       "    </tr>\n",
       "  </tbody>\n",
       "</table>\n",
       "</div>"
      ],
      "text/plain": [
       "                 Time        Amount\n",
       "max     172792.000000  25691.160000\n",
       "mean              NaN     88.349619\n",
       "median   84692.000000     22.000000\n",
       "min          0.000000      0.000000\n",
       "skew        -0.035568           NaN"
      ]
     },
     "execution_count": 7,
     "metadata": {},
     "output_type": "execute_result"
    }
   ],
   "source": [
    "# Some stats of variables \"time\" and \"amount\"\n",
    "df.agg({'Time': ['min', 'max', 'median', 'skew'],\n",
    "        'Amount': ['min', 'max', 'median', 'mean']})"
   ]
  },
  {
   "cell_type": "code",
   "execution_count": 8,
   "metadata": {},
   "outputs": [
    {
     "data": {
      "text/plain": [
       "Class\n",
       "0     88.291022\n",
       "1    122.211321\n",
       "Name: Amount, dtype: float64"
      ]
     },
     "execution_count": 8,
     "metadata": {},
     "output_type": "execute_result"
    }
   ],
   "source": [
    "# Average of amount by fraud status\n",
    "df.groupby(\"Class\")[\"Amount\"].mean()"
   ]
  },
  {
   "cell_type": "code",
   "execution_count": 9,
   "metadata": {},
   "outputs": [
    {
     "name": "stdout",
     "output_type": "stream",
     "text": [
      "Not Fraud    284315\n",
      "Fraud           492\n",
      "Name: Class, dtype: int64\n"
     ]
    }
   ],
   "source": [
    "# The number of suspicious transactions\n",
    "# Column \"Class\" provide a value of '0' for non-fraud and '1' for a fraud\n",
    "class_names = {0:'Not Fraud', 1:'Fraud'}\n",
    "print(df.Class.value_counts().rename(index = class_names))\n",
    "\n",
    "# or counter = Counter(df.Class)\n",
    "# from collections import Counter"
   ]
  },
  {
   "cell_type": "code",
   "execution_count": 10,
   "metadata": {},
   "outputs": [
    {
     "name": "stdout",
     "output_type": "stream",
     "text": [
      "Not Fraud: 284315\n",
      "Fraud: 492\n",
      "Proportion: 577.88 : 1\n"
     ]
    },
    {
     "data": {
      "image/png": "[encoded data removed]",
      "text/plain": [
       "<Figure size 432x288 with 1 Axes>"
      ]
     },
     "metadata": {
      "needs_background": "light"
     },
     "output_type": "display_data"
    }
   ],
   "source": [
    "target_count = df.Class.value_counts()\n",
    "print('Not Fraud:', target_count[0])\n",
    "print('Fraud:', target_count[1])\n",
    "print('Proportion:', round(target_count[0] / target_count[1], 2), ': 1')\n",
    "\n",
    "target_count.plot(kind='bar', title='Count (target)');"
   ]
  },
  {
   "cell_type": "markdown",
   "metadata": {},
   "source": [
    "In the dataset, for 1 fraud there are ~578 non fraud transactions; the dataset is highly unbalanced, the frauds account for 0.173% of all transactions. The data will need to be balanced for an optimal model performance."
   ]
  },
  {
   "cell_type": "code",
   "execution_count": 11,
   "metadata": {},
   "outputs": [
    {
     "data": {
      "image/png": "[encoded data removed]",
      "text/plain": [
       "<Figure size 1080x864 with 29 Axes>"
      ]
     },
     "metadata": {
      "needs_background": "light"
     },
     "output_type": "display_data"
    }
   ],
   "source": [
    "# Plotting the variables\n",
    "fig = plt.figure(figsize = (15, 12))\n",
    "\n",
    "plt.subplot(5, 6, 1) ; plt.plot(df.V1) ; plt.subplot(5, 6, 15) ; plt.plot(df.V15)\n",
    "plt.subplot(5, 6, 2) ; plt.plot(df.V2) ; plt.subplot(5, 6, 16) ; plt.plot(df.V16)\n",
    "plt.subplot(5, 6, 3) ; plt.plot(df.V3) ; plt.subplot(5, 6, 17) ; plt.plot(df.V17)\n",
    "plt.subplot(5, 6, 4) ; plt.plot(df.V4) ; plt.subplot(5, 6, 18) ; plt.plot(df.V18)\n",
    "plt.subplot(5, 6, 5) ; plt.plot(df.V5) ; plt.subplot(5, 6, 19) ; plt.plot(df.V19)\n",
    "plt.subplot(5, 6, 6) ; plt.plot(df.V6) ; plt.subplot(5, 6, 20) ; plt.plot(df.V20)\n",
    "plt.subplot(5, 6, 7) ; plt.plot(df.V7) ; plt.subplot(5, 6, 21) ; plt.plot(df.V21)\n",
    "plt.subplot(5, 6, 8) ; plt.plot(df.V8) ; plt.subplot(5, 6, 22) ; plt.plot(df.V22)\n",
    "plt.subplot(5, 6, 9) ; plt.plot(df.V9) ; plt.subplot(5, 6, 23) ; plt.plot(df.V23)\n",
    "plt.subplot(5, 6, 10) ; plt.plot(df.V10) ; plt.subplot(5, 6, 24) ; plt.plot(df.V24)\n",
    "plt.subplot(5, 6, 11) ; plt.plot(df.V11) ; plt.subplot(5, 6, 25) ; plt.plot(df.V25)\n",
    "plt.subplot(5, 6, 12) ; plt.plot(df.V12) ; plt.subplot(5, 6, 26) ; plt.plot(df.V26)\n",
    "plt.subplot(5, 6, 13) ; plt.plot(df.V13) ; plt.subplot(5, 6, 27) ; plt.plot(df.V27)\n",
    "plt.subplot(5, 6, 14) ; plt.plot(df.V14) ; plt.subplot(5, 6, 28) ; plt.plot(df.V28)\n",
    "plt.subplot(5, 6, 29) ; plt.plot(df.Amount)\n",
    "plt.show()"
   ]
  },
  {
   "cell_type": "markdown",
   "metadata": {},
   "source": [
    "### Modeling Techniques Exploration"
   ]
  },
  {
   "cell_type": "code",
   "execution_count": 12,
   "metadata": {},
   "outputs": [],
   "source": [
    "# Defining the target and predictor variables\n",
    "target = ['Class']\n",
    "y = df[target]\n",
    "# or target = df.iloc[:1, 30: ].columns\n",
    "# data_target = df[target]\n",
    "\n",
    "features = ['Time', 'V1', 'V2', 'V1', 'V2', 'V3', 'V4', 'V5', 'V6', 'V7', 'V8', 'V9', 'V10',\n",
    "       'V11', 'V12', 'V13', 'V14', 'V15', 'V16', 'V17', 'V18', 'V19', 'V20',\n",
    "       'V21', 'V22', 'V23', 'V24', 'V25', 'V26', 'V27', 'V28', 'Amount']\n",
    "X = df[features]\n",
    "# or X = df.drop('Class', axis=1)\n",
    "# or features = df.iloc[:, 1:30].columns\n",
    "#     data_features = df[feature_names]"
   ]
  },
  {
   "cell_type": "code",
   "execution_count": 13,
   "metadata": {},
   "outputs": [],
   "source": [
    "# Split the dataset into training and validation datasets\n",
    "train_X, val_X, train_y, val_y = train_test_split(X, y, train_size=0.70, test_size=0.30, random_state = 1)"
   ]
  },
  {
   "cell_type": "code",
   "execution_count": 14,
   "metadata": {},
   "outputs": [
    {
     "name": "stdout",
     "output_type": "stream",
     "text": [
      "Length of train_X is: 199364\n",
      "Length of train_y is: 199364\n",
      "Length of val_X is: 85443\n",
      "Length of val_y is: 85443\n"
     ]
    }
   ],
   "source": [
    "# Print datasets sizes\n",
    "print(\"Length of train_X is: {train_X}\".format(train_X = len(train_X)))\n",
    "print(\"Length of train_y is: {train_y}\".format(train_y = len(train_y)))\n",
    "print(\"Length of val_X is: {val_X}\".format(val_X = len(val_X)))\n",
    "print(\"Length of val_y is: {val_y}\".format(val_y = len(val_y)))"
   ]
  },
  {
   "cell_type": "markdown",
   "metadata": {},
   "source": [
    "#### 1. Logistic Regression Technique"
   ]
  },
  {
   "cell_type": "code",
   "execution_count": 107,
   "metadata": {},
   "outputs": [
    {
     "data": {
      "text/plain": [
       "LogisticRegression(max_iter=400)"
      ]
     },
     "execution_count": 107,
     "metadata": {},
     "output_type": "execute_result"
    }
   ],
   "source": [
    "Logistic_model = LogisticRegression(solver='lbfgs', max_iter=400)\n",
    "Logistic_model.fit(train_X, train_y.values.ravel())"
   ]
  },
  {
   "cell_type": "code",
   "execution_count": 108,
   "metadata": {},
   "outputs": [],
   "source": [
    "# Prediction\n",
    "Log_val_predictions = Logistic_model.predict(val_X)"
   ]
  },
  {
   "cell_type": "code",
   "execution_count": 109,
   "metadata": {},
   "outputs": [
    {
     "name": "stdout",
     "output_type": "stream",
     "text": [
      "[0 1]\n"
     ]
    }
   ],
   "source": [
    "# Is our model still predicting just one class?\n",
    "print( np.unique( Log_val_predictions ) )\n",
    "#This model is predicting 0 and 1, which means it's not ignoring the minority class in favor of the majority class."
   ]
  },
  {
   "cell_type": "code",
   "execution_count": 110,
   "metadata": {},
   "outputs": [
    {
     "name": "stdout",
     "output_type": "stream",
     "text": [
      "[[85292    16]\n",
      " [   57    78]]\n"
     ]
    },
    {
     "data": {
      "image/png": "[encoded data removed]",
      "text/plain": [
       "<Figure size 432x288 with 2 Axes>"
      ]
     },
     "metadata": {
      "needs_background": "light"
     },
     "output_type": "display_data"
    }
   ],
   "source": [
    "### Confusion Matrix ### \n",
    "# It is a performance measurement for machine learning classification. \n",
    "# Results can be used to determine metrics such as Recall, Precision, and Accuracy. Note: Since the data is unbalanced, accuracy will most likely not be a relevant performance metric.\n",
    "\n",
    "# Visualize the prediction results\n",
    "class_names = ['Not_Fraud', 'Fraud']\n",
    "matrix = confusion_matrix(val_y, Log_val_predictions)\n",
    "print(metrics.confusion_matrix(val_y, Log_val_predictions))\n",
    "\n",
    "# Create pandas dataframe\n",
    "dataframe = pd.DataFrame(matrix, index=class_names, columns=class_names)\n",
    "\n",
    "# Create heatmap\n",
    "sns.heatmap(dataframe, annot=True, cbar=\"Blues\", cmap=\"Blues\", fmt = 'g')\n",
    "\n",
    "plt.title(\"Confusion Matrix\"), plt.tight_layout()\n",
    "plt.ylabel(\"Actual\"), plt.xlabel(\"Predicted\")\n",
    "plt.show()\n",
    "\n",
    "# TN=85292 TP= 78 FP= 16 FN= 57 "
   ]
  },
  {
   "cell_type": "markdown",
   "metadata": {},
   "source": [
    "#### a. Evaluation Metrics"
   ]
  },
  {
   "cell_type": "code",
   "execution_count": 111,
   "metadata": {},
   "outputs": [
    {
     "name": "stdout",
     "output_type": "stream",
     "text": [
      "              precision    recall  f1-score   support\n",
      "\n",
      "           0       1.00      1.00      1.00     85308\n",
      "           1       0.83      0.58      0.68       135\n",
      "\n",
      "    accuracy                           1.00     85443\n",
      "   macro avg       0.91      0.79      0.84     85443\n",
      "weighted avg       1.00      1.00      1.00     85443\n",
      "\n"
     ]
    }
   ],
   "source": [
    "# Some important scalar metrics\n",
    "print(metrics.classification_report(val_y, Log_val_predictions))"
   ]
  },
  {
   "cell_type": "code",
   "execution_count": 112,
   "metadata": {},
   "outputs": [
    {
     "name": "stdout",
     "output_type": "stream",
     "text": [
      "\u001b[1mLogistic Regression Summary Metrics\n",
      "\u001b[0m\n",
      "Precision is: 82.98%\n",
      "Recall    is: 57.78%\n",
      "Accuracy  is: 99.91%\n",
      "F1-score  is: 68.12%\n",
      "\n",
      "\n"
     ]
    }
   ],
   "source": [
    "# Precision: Positive predictive value. It describes how good a model is at predicting the positive class. How many selected instances are relevant. Proportion of true positives out of all detected postives. Or Percentage of the results which are relevant, in other words how many selected instances are relevant. Out of all the positive classes, predicted correctly, how many are actually positive. TP/(TP+FP)\n",
    "# Recall: Sensivity. It describes how good the model is at predicting the positive class when the actual outcome is positive. How many relevant instances are selected. Number of true positives that are correctly classified. Or Percentage of total relevant results correctly classified by your algorithm, in other words how many relevant instances are selected. Out of all the positive classes, how much was predicted correctly. It should be high as possible. TP/(TP+TN)\n",
    "# Accuracy: Out of all the classes, how much we predicted correctly. It should be high as possible. (TP+TN)/Total\n",
    "# F-measure: Harmonic mean of precision and recall. It is difficult to compare two models with low precision and high recall or vice versa. F-score helps to measure Recall and Precision at the same time. (2*Recall*Precision)/Recall+Precision\n",
    "\n",
    "print( '\\033[1m' + \"Logistic Regression Summary Metrics\")\n",
    "print ('\\033[0m')\n",
    "print(\"Precision is: %.2f%%\" % round(precision_score(val_y, Log_val_predictions)*100, 2))\n",
    "print(\"Recall    is: %.2f%%\" % round(recall_score(val_y, Log_val_predictions)*100, 2))\n",
    "print(\"Accuracy  is: %.2f%%\" % round(accuracy_score(val_y, Log_val_predictions)*100, 2))\n",
    "print(\"F1-score  is: %.2f%%\" % round(f1_score(val_y, Log_val_predictions)*100, 2))\n",
    "print('\\n')\n"
   ]
  },
  {
   "cell_type": "markdown",
   "metadata": {},
   "source": [
    "A 99.91% accuracy means that 99.91% of the data is accurately classified. It signals that the model is mostly prediction non-fraud instances. It might be the result of the unbalanced data. It might be misleading and not be useful to assess the quality of the model.\n",
    "We will assess the model with a single feature to validate the hypothesis."
   ]
  },
  {
   "cell_type": "code",
   "execution_count": 21,
   "metadata": {},
   "outputs": [
    {
     "name": "stdout",
     "output_type": "stream",
     "text": [
      "Accuracy  is: 99.84%\n"
     ]
    }
   ],
   "source": [
    "# let's run the model, but using only one feature (which should drastically reduce the accuracy of the classifier)\n",
    "Logistic_model = LogisticRegression(solver='lbfgs', max_iter=400)\n",
    "Logistic_model.fit(train_X[['V20']], train_y.values.ravel())\n",
    "Log_val_predictions = Logistic_model.predict(val_X[['V20']])\n",
    "print(\"Accuracy  is: %.2f%%\" % round(accuracy_score(val_y, Log_val_predictions)*100, 2))\n"
   ]
  },
  {
   "cell_type": "markdown",
   "metadata": {},
   "source": [
    "The accuracy of model with one feature 99.84% vs accuracy of model with all features 99.91%.\n",
    "The 99.91% high accuracy rate was just an illusion as it barely fluctuated.\n",
    "\n",
    "Let's explore additional evaluation metrics.\n",
    "A Matthews Correlation Coefficient, AUROC (Area Under ROC Curve), and Normalized Gini Coefficient might be more appropriate as it is a more robust and adequate metric for imbalanced datasets. MCC ranges from -1 to 1. Normalized Gini Coefficient ranges from approximately 0 for random guessing, to approximately 0.5 for a perfect score."
   ]
  },
  {
   "cell_type": "code",
   "execution_count": 22,
   "metadata": {},
   "outputs": [
    {
     "data": {
      "text/plain": [
       "-0.00013609316095458923"
      ]
     },
     "execution_count": 22,
     "metadata": {},
     "output_type": "execute_result"
    }
   ],
   "source": [
    "# Matthews Correlation Coefficient.\n",
    "from sklearn.metrics import matthews_corrcoef\n",
    "matthews_corrcoef(val_y, Log_val_predictions)\n"
   ]
  },
  {
   "cell_type": "markdown",
   "metadata": {},
   "source": [
    "MCC takes into account all four values in the confusion matrix - TP, TN, FP, FN. It is the correlation coefficient between the observed and predicted binary classifications\n",
    "A high MCC value (close to 1) means that both classes are predicted well, even if one class is disproportionately under or over represented.\n",
    "An ~0.0 MCC means that the classification of Not_Fraud and Fraud by this model is no better than a random flip of a fair coin."
   ]
  },
  {
   "cell_type": "code",
   "execution_count": 23,
   "metadata": {},
   "outputs": [
    {
     "name": "stdout",
     "output_type": "stream",
     "text": [
      "Gini: 0.005, Max. Gini: 0.499, Normalized Gini: 1.000\n"
     ]
    }
   ],
   "source": [
    "# Normalized Gini Coefficient\n",
    "import numpy as np\n",
    "import matplotlib.pyplot as plt\n",
    "import scipy.interpolate\n",
    "import scipy.integrate\n",
    "\n",
    "\n",
    "def gini(val_y, Log_val_predictions):\n",
    "    assert (len(val_y) == len(Log_val_predictions))\n",
    "    all = np.asarray(np.c_[val_y, Log_val_predictions, np.arange(len(val_y))], dtype=np.float)\n",
    "    all = all[np.lexsort((all[:, 2], -1 * all[:, 1]))]\n",
    "    totalLosses = all[:, 0].sum()\n",
    "    giniSum = all[:, 0].cumsum().sum() / totalLosses\n",
    "\n",
    "    giniSum -= (len(val_y) + 1) / 2.\n",
    "    return giniSum / len(val_y)\n",
    "\n",
    "\n",
    "def gini_normalized(val_y, Log_val_predictions):\n",
    "    return gini(val_y, Log_val_predictions) / gini(val_y, Log_val_predictions)\n",
    "\n",
    "# Gini coefficient for the prediction\n",
    "gini_predictions = gini(val_y, Log_val_predictions)\n",
    "gini_max = gini(val_y, val_y)\n",
    "ngini= gini_normalized(val_y, Log_val_predictions)\n",
    "print('Gini: %.3f, Max. Gini: %.3f, Normalized Gini: %.3f' % (gini_predictions, gini_max, ngini))"
   ]
  },
  {
   "cell_type": "markdown",
   "metadata": {},
   "source": [
    "#### Address the fact that the class is imbalanced"
   ]
  },
  {
   "cell_type": "code",
   "execution_count": 24,
   "metadata": {},
   "outputs": [
    {
     "data": {
      "text/plain": [
       "1    284315\n",
       "0    284315\n",
       "Name: Class, dtype: int64"
      ]
     },
     "execution_count": 24,
     "metadata": {},
     "output_type": "execute_result"
    }
   ],
   "source": [
    "# Resampling\n",
    "# Up-sample Minority Class\n",
    "from sklearn.utils import resample\n",
    "# Separate majority and minority classes\n",
    "df_majority = df[df.Class==0]\n",
    "df_minority = df[df.Class==1]\n",
    " \n",
    "# Upsample minority class\n",
    "df_minority_upsampled = resample(df_minority, \n",
    "                                 replace=True,     # sample with replacement\n",
    "                                 n_samples=284315,    # to match majority class\n",
    "                                 random_state=123) # reproducible results\n",
    " \n",
    "# Combine majority class with upsampled minority class\n",
    "df_upsampled = pd.concat([df_majority, df_minority_upsampled])\n",
    " \n",
    "# Display new class counts\n",
    "df_upsampled.Class.value_counts()\n",
    "\n",
    "# Over-sampling duplicate random records from the minority class, which can cause overfitting"
   ]
  },
  {
   "cell_type": "code",
   "execution_count": 25,
   "metadata": {},
   "outputs": [],
   "source": [
    "# Define a training and test dataset for the upsampling technique\n",
    "# Defining the target and predictor variables\n",
    "target_up = ['Class']\n",
    "y_up = df_upsampled[target_up]\n",
    "\n",
    "features_up = ['Time', 'V1', 'V2', 'V1', 'V2', 'V3', 'V4', 'V5', 'V6', 'V7', 'V8', 'V9', 'V10',\n",
    "       'V11', 'V12', 'V13', 'V14', 'V15', 'V16', 'V17', 'V18', 'V19', 'V20',\n",
    "       'V21', 'V22', 'V23', 'V24', 'V25', 'V26', 'V27', 'V28', 'Amount']\n",
    "X_up = df_upsampled[features_up]\n",
    "\n",
    "# Split the dataset into training and validation datasets\n",
    "train_X_up, val_X_up, train_y_up, val_y_up = train_test_split(X_up, y_up, train_size=0.70, test_size=0.30, random_state = 1)"
   ]
  },
  {
   "cell_type": "code",
   "execution_count": 26,
   "metadata": {},
   "outputs": [
    {
     "name": "stdout",
     "output_type": "stream",
     "text": [
      "[[82467  2947]\n",
      " [ 7248 77927]]\n"
     ]
    },
    {
     "data": {
      "image/png": "[encoded data removed]",
      "text/plain": [
       "<Figure size 432x288 with 2 Axes>"
      ]
     },
     "metadata": {
      "needs_background": "light"
     },
     "output_type": "display_data"
    },
    {
     "name": "stdout",
     "output_type": "stream",
     "text": [
      "Logistic Regression Summary Metrics for Up-sampled training dataset\n",
      "Precision is: 96.36%\n",
      "Recall    is: 91.49%\n",
      "Accuracy  is: 94.02%\n",
      "F1-score  is: 93.86%\n",
      "\n",
      "\n"
     ]
    }
   ],
   "source": [
    "# Train data on upsampled dataset\n",
    "Logistic_model_up = LogisticRegression(solver='lbfgs', max_iter=400)\n",
    "Logistic_model_up.fit(train_X_up, train_y_up.values.ravel())\n",
    "# Prediction\n",
    "Log_val_predictions_up = Logistic_model_up.predict(val_X_up)\n",
    "\n",
    "### Confusion Matrix ### \n",
    "\n",
    "# Visualize the prediction results\n",
    "class_names = ['Not_Fraud', 'Fraud']\n",
    "matrix_up = confusion_matrix(val_y_up, Log_val_predictions_up)\n",
    "print(metrics.confusion_matrix(val_y_up, Log_val_predictions_up))\n",
    "\n",
    "# Create pandas dataframe\n",
    "dataframe_up = pd.DataFrame(matrix_up, index=class_names, columns=class_names)\n",
    "\n",
    "# Create heatmap\n",
    "sns.heatmap(dataframe_up, annot=True, cbar=\"Blues\", cmap=\"Blues\", fmt = 'g')\n",
    "\n",
    "plt.title(\"Confusion Matrix\"), plt.tight_layout()\n",
    "plt.ylabel(\"Actual\"), plt.xlabel(\"Predicted\")\n",
    "plt.show()\n",
    "\n",
    "# TN=82467 TP= 77927 FP= 2947 FN= 7248 \n",
    "\n",
    "\n",
    "print(\"Logistic Regression Summary Metrics for Up-sampled training dataset\")\n",
    "print(\"Precision is: %.2f%%\" % round(precision_score(val_y_up, Log_val_predictions_up)*100, 2))\n",
    "print(\"Recall    is: %.2f%%\" % round(recall_score(val_y_up, Log_val_predictions_up)*100, 2))\n",
    "print(\"Accuracy  is: %.2f%%\" % round(accuracy_score(val_y_up, Log_val_predictions_up)*100, 2))\n",
    "print(\"F1-score  is: %.2f%%\" % round(f1_score(val_y_up, Log_val_predictions_up)*100, 2))\n",
    "print('\\n')\n",
    "\n"
   ]
  },
  {
   "cell_type": "code",
   "execution_count": 27,
   "metadata": {},
   "outputs": [
    {
     "data": {
      "text/plain": [
       "1    492\n",
       "0    492\n",
       "Name: Class, dtype: int64"
      ]
     },
     "execution_count": 27,
     "metadata": {},
     "output_type": "execute_result"
    }
   ],
   "source": [
    "# Downsample majority class\n",
    "# Under-sampling involves removing random records from the majority class, which can cause loss of information\n",
    "\n",
    "df_majority_downsampled = resample(df_majority, \n",
    "                                 replace=False,    # sample without replacement\n",
    "                                 n_samples=492,     # to match minority class\n",
    "                                 random_state=123) # reproducible results\n",
    " \n",
    "# Combine minority class with downsampled majority class\n",
    "df_downsampled = pd.concat([df_majority_downsampled, df_minority])\n",
    " \n",
    "# Display new class counts\n",
    "df_downsampled.Class.value_counts()"
   ]
  },
  {
   "cell_type": "code",
   "execution_count": 28,
   "metadata": {},
   "outputs": [],
   "source": [
    "# define a training and test dataset for the downsampling technique\n",
    "# Defining the target and predictor variables\n",
    "target_dn = ['Class']\n",
    "y_dn = df_downsampled[target_dn]\n",
    "\n",
    "\n",
    "features_dn = ['Time', 'V1', 'V2', 'V1', 'V2', 'V3', 'V4', 'V5', 'V6', 'V7', 'V8', 'V9', 'V10',\n",
    "       'V11', 'V12', 'V13', 'V14', 'V15', 'V16', 'V17', 'V18', 'V19', 'V20',\n",
    "       'V21', 'V22', 'V23', 'V24', 'V25', 'V26', 'V27', 'V28', 'Amount']\n",
    "X_dn = df_downsampled[features_dn]\n",
    "\n",
    "# Split the dataset into training and validation datasets\n",
    "train_X_dn, val_X_dn, train_y_dn, val_y_dn = train_test_split(X_dn, y_dn, train_size=0.70, test_size=0.30, random_state = 1)"
   ]
  },
  {
   "cell_type": "code",
   "execution_count": 29,
   "metadata": {},
   "outputs": [
    {
     "name": "stdout",
     "output_type": "stream",
     "text": [
      "[[137   5]\n",
      " [ 14 140]]\n"
     ]
    },
    {
     "data": {
      "image/png": "[encoded data removed]",
      "text/plain": [
       "<Figure size 432x288 with 2 Axes>"
      ]
     },
     "metadata": {
      "needs_background": "light"
     },
     "output_type": "display_data"
    }
   ],
   "source": [
    "\n",
    "# Train data on downsampled dataset\n",
    "Logistic_model_dn = LogisticRegression(solver='lbfgs', max_iter=400)\n",
    "Logistic_model_dn.fit(train_X_dn, train_y_dn.values.ravel())\n",
    "# Prediction\n",
    "Log_val_predictions_dn = Logistic_model_dn.predict(val_X_dn)\n",
    "\n",
    "### Confusion Matrix ### \n",
    "\n",
    "# Visualize the prediction results\n",
    "class_names = ['Not_Fraud', 'Fraud']\n",
    "matrix_dn = confusion_matrix(val_y_dn, Log_val_predictions_dn)\n",
    "print(metrics.confusion_matrix(val_y_dn, Log_val_predictions_dn))\n",
    "\n",
    "# Create pandas dataframe\n",
    "dataframe_dn = pd.DataFrame(matrix_dn, index=class_names, columns=class_names)\n",
    "\n",
    "# Create heatmap\n",
    "sns.heatmap(dataframe_dn, annot=True, cbar=\"Blues\", cmap=\"Blues\", fmt = 'g')\n",
    "\n",
    "plt.title(\"Confusion Matrix\"), plt.tight_layout()\n",
    "plt.ylabel(\"Actual\"), plt.xlabel(\"Predicted\")\n",
    "plt.show()\n",
    "\n",
    "# TN=82467 TP= 77927 FP= 2947 FN= 7248 \n"
   ]
  },
  {
   "cell_type": "code",
   "execution_count": 114,
   "metadata": {},
   "outputs": [
    {
     "name": "stdout",
     "output_type": "stream",
     "text": [
      "Logistic Regression Summary Metrics for imbalanced training dataset\n",
      "Precision is: 82.98%\n",
      "Recall    is: 57.78%\n",
      "Accuracy  is: 99.91%\n",
      "F1-score  is: 68.12%\n",
      "\n",
      "\n",
      "Logistic Regression Summary Metrics for down-sampled training dataset\n",
      "Precision is: 96.55%\n",
      "Recall    is: 90.91%\n",
      "Accuracy  is: 93.58%\n",
      "F1-score  is: 93.65%\n",
      "\n",
      "\n",
      "Logistic Regression Summary Metrics for Up-sampled training dataset\n",
      "Precision is: 96.36%\n",
      "Recall    is: 91.49%\n",
      "Accuracy  is: 94.02%\n",
      "F1-score  is: 93.86%\n",
      "\n",
      "\n"
     ]
    }
   ],
   "source": [
    "print(\"Logistic Regression Summary Metrics for imbalanced training dataset\")\n",
    "print(\"Precision is: %.2f%%\" % round(precision_score(val_y, Log_val_predictions)*100, 2))\n",
    "print(\"Recall    is: %.2f%%\" % round(recall_score(val_y, Log_val_predictions)*100, 2))\n",
    "print(\"Accuracy  is: %.2f%%\" % round(accuracy_score(val_y, Log_val_predictions)*100, 2))\n",
    "print(\"F1-score  is: %.2f%%\" % round(f1_score(val_y, Log_val_predictions)*100, 2))\n",
    "print('\\n')\n",
    "\n",
    "print(\"Logistic Regression Summary Metrics for down-sampled training dataset\")\n",
    "print(\"Precision is: %.2f%%\" % round(precision_score(val_y_dn, Log_val_predictions_dn)*100, 2))\n",
    "print(\"Recall    is: %.2f%%\" % round(recall_score(val_y_dn, Log_val_predictions_dn)*100, 2))\n",
    "print(\"Accuracy  is: %.2f%%\" % round(accuracy_score(val_y_dn, Log_val_predictions_dn)*100, 2))\n",
    "print(\"F1-score  is: %.2f%%\" % round(f1_score(val_y_dn, Log_val_predictions_dn)*100, 2))\n",
    "print('\\n')\n",
    "\n",
    "print(\"Logistic Regression Summary Metrics for Up-sampled training dataset\")\n",
    "print(\"Precision is: %.2f%%\" % round(precision_score(val_y_up, Log_val_predictions_up)*100, 2))\n",
    "print(\"Recall    is: %.2f%%\" % round(recall_score(val_y_up, Log_val_predictions_up)*100, 2))\n",
    "print(\"Accuracy  is: %.2f%%\" % round(accuracy_score(val_y_up, Log_val_predictions_up)*100, 2))\n",
    "print(\"F1-score  is: %.2f%%\" % round(f1_score(val_y_up, Log_val_predictions_up)*100, 2))\n",
    "print('\\n')\n",
    "\n"
   ]
  },
  {
   "cell_type": "code",
   "execution_count": 31,
   "metadata": {},
   "outputs": [
    {
     "name": "stdout",
     "output_type": "stream",
     "text": [
      "MCC imbalanced: -0.01%\n",
      "MCC Downsampled: 87.33%\n",
      "MCC Upsampled: 88.16%\n"
     ]
    }
   ],
   "source": [
    "# Matthews Correlation Coefficient.\n",
    "from sklearn.metrics import matthews_corrcoef\n",
    "\n",
    "print(\"MCC imbalanced: %.2f%%\" % round(matthews_corrcoef(val_y, Log_val_predictions)*100, 2))\n",
    "print(\"MCC Downsampled: %.2f%%\" % round(matthews_corrcoef(val_y_dn, Log_val_predictions_dn)*100, 2))\n",
    "print(\"MCC Upsampled: %.2f%%\" % round(matthews_corrcoef(val_y_up, Log_val_predictions_up)*100, 2))"
   ]
  },
  {
   "cell_type": "markdown",
   "metadata": {},
   "source": [
    "Consequently, upsampling seems to be more appropriate for this imbalanced data class. In other words, the logistic regression with upsampled data performs overall better."
   ]
  },
  {
   "cell_type": "markdown",
   "metadata": {},
   "source": [
    "- ROC Curves summarize the trade-off between the true positive rate and false positive rate for a predictive model using different probability thresholds.\n",
    "- Precision-Recall curves summarize the trade-off between the true positive rate and the positive predictive value for a predictive model using different probability thresholds."
   ]
  },
  {
   "cell_type": "code",
   "execution_count": 32,
   "metadata": {},
   "outputs": [
    {
     "name": "stdout",
     "output_type": "stream",
     "text": [
      "No Skill: ROC AUC=0.500\n",
      "Logistic: ROC AUC=0.974\n"
     ]
    }
   ],
   "source": [
    "# ROC on upsampled dataset\n",
    "train_X_roc, val_X_roc, train_y_roc, val_y_roc = train_test_split(X_up, y_up, test_size=0.50, random_state = 2)\n",
    "\n",
    "# Generate a no skill prediction (majority class)\n",
    "ns_probs = [0 for _ in range(len(val_y_roc))]\n",
    "\n",
    "# Fit a model\n",
    "model_roc = LogisticRegression(solver='lbfgs')\n",
    "model_roc.fit(train_X_roc, train_y_roc.values.ravel())\n",
    "\n",
    "# Predict probabilities\n",
    "lr_probs = model_roc.predict_proba(val_X_roc)\n",
    "\n",
    "# Keep probabilities for the positive outcome only\n",
    "lr_probs = lr_probs[:, 1]\n",
    "\n",
    "# Calculate scores\n",
    "ns_auc = roc_auc_score(val_y_roc, ns_probs)\n",
    "lr_auc = roc_auc_score(val_y_roc, lr_probs)\n",
    "\n",
    "# Summarize scores\n",
    "print('No Skill: ROC AUC=%.3f' % (ns_auc))\n",
    "print('Logistic: ROC AUC=%.3f' % (lr_auc))\n",
    "\n",
    "# Calculate roc curves\n",
    "ns_fpr, ns_tpr, _ = roc_curve(val_y_roc, ns_probs)\n",
    "lr_fpr, lr_tpr, _ = roc_curve(val_y_roc, lr_probs)"
   ]
  },
  {
   "cell_type": "code",
   "execution_count": 33,
   "metadata": {},
   "outputs": [
    {
     "data": {
      "image/png": "[encoded data removed]",
      "text/plain": [
       "<Figure size 432x288 with 1 Axes>"
      ]
     },
     "metadata": {
      "needs_background": "light"
     },
     "output_type": "display_data"
    }
   ],
   "source": [
    "# ROC AUC for the logistic regression model and the no skill classifier that only predicts 0 for all examples\n",
    "# Plot the roc curve for the model\n",
    "pyplot.plot(ns_fpr, ns_tpr, linestyle='--', label='No Skill')\n",
    "pyplot.plot(lr_fpr, lr_tpr, marker='.', label='Logistic')\n",
    "\n",
    "# Axis labels\n",
    "plt.title(\"ROC Curve of the Upsampled Dataset\")\n",
    "pyplot.xlabel('False Positive Rate')\n",
    "pyplot.ylabel('True Positive Rate')\n",
    "\n",
    "# Show the legend\n",
    "pyplot.legend()\n",
    "\n",
    "# Show the plot\n",
    "pyplot.show()"
   ]
  },
  {
   "cell_type": "code",
   "execution_count": 119,
   "metadata": {},
   "outputs": [
    {
     "name": "stdout",
     "output_type": "stream",
     "text": [
      "Upsampling Metrics= Logistic: F1=0.938 AUC=0.981\n"
     ]
    },
    {
     "data": {
      "image/png": "[encoded data removed]",
      "text/plain": [
       "<Figure size 432x288 with 1 Axes>"
      ]
     },
     "metadata": {
      "needs_background": "light"
     },
     "output_type": "display_data"
    }
   ],
   "source": [
    "# A precision-recall curve is a plot of the precision (y-axis) and the recall (x-axis) for different thresholds, much like the ROC curve.\n",
    "# Precision-recall curve and f1\n",
    "# Fit a model\n",
    "model_pr = LogisticRegression(solver='lbfgs')\n",
    "model_pr.fit(train_X_roc, train_y_roc.values.ravel())\n",
    "\n",
    "# Predict probabilities\n",
    "lr_probs = model_pr.predict_proba(val_X_roc)\n",
    "\n",
    "# Keep probabilities for the positive outcome only\n",
    "lr_probs = lr_probs[:, 1]\n",
    "\n",
    "# Predict class values\n",
    "yhat = model_pr.predict(val_X_roc)\n",
    "lr_precision, lr_recall, _ = precision_recall_curve(val_y_roc, lr_probs)\n",
    "lr_f1, lr_auc = f1_score(val_y_roc, yhat), auc(lr_recall, lr_precision)\n",
    "\n",
    "# summarize scores\n",
    "print(\"Upsampling Metrics=\", 'Logistic: F1=%.3f AUC=%.3f' % (lr_f1, lr_auc))\n",
    "\n",
    "# plot the precision-recall curves\n",
    "no_skill = len(val_y_roc[val_y_roc==1]) / len(val_y_roc)\n",
    "pyplot.plot([0, 1], [no_skill, no_skill], linestyle='--', label='No Skill')\n",
    "pyplot.plot(lr_recall, lr_precision, marker='.', label='Logistic')\n",
    "\n",
    "# axis labels\n",
    "plt.title(\"Precision-Recall curve of the Upsampled Dataset\")\n",
    "pyplot.xlabel('Recall')\n",
    "pyplot.ylabel('Precision')\n",
    "\n",
    "# show the legend\n",
    "pyplot.legend()\n",
    "\n",
    "# show the plot\n",
    "pyplot.show()"
   ]
  },
  {
   "cell_type": "markdown",
   "metadata": {},
   "source": [
    "#### General rules\n",
    "- AUC for a precision-recall curve summarizes the integral or an approximation of the area under the precision-recall curve. It summarizes the skill of a model across thresholds, like ROC AUC.\n",
    "- F-Measure summarizes model skill for a specific probability threshold (e.g. 0.5).\n",
    "- ROC curves is used when there are roughly equal numbers of observations for each class.\n",
    "- Precision-Recall is be used when there is a moderate to large class imbalance."
   ]
  },
  {
   "cell_type": "markdown",
   "metadata": {},
   "source": [
    "#### 2. XGBoost Technique"
   ]
  },
  {
   "cell_type": "code",
   "execution_count": 59,
   "metadata": {},
   "outputs": [],
   "source": [
    "train_X_xgb = np.array(train_X)\n",
    "train_y_xgb = np.array(train_y)\n",
    "val_X_xgb = np.array(val_X)\n",
    "val_y_xgb = np.array(val_y)"
   ]
  },
  {
   "cell_type": "code",
   "execution_count": 103,
   "metadata": {},
   "outputs": [],
   "source": [
    "model_xgb = XGBClassifier( max_depth=400, subsample=0.8, colsample_bylevel=0.8, \n",
    "                        colsample_bytree=0.8, min_child_weight=1, reg_alpha=0, reg_lambda=1, \n",
    "                        n_estimators=400, learning_rate=0.1, random_state=5)\n",
    "#Changing the random state should not significantly change the model accuracy if it is skilfull."
   ]
  },
  {
   "cell_type": "code",
   "execution_count": 104,
   "metadata": {},
   "outputs": [
    {
     "name": "stdout",
     "output_type": "stream",
     "text": [
      "[16:42:56] WARNING: C:/Users/Administrator/workspace/xgboost-win64_release_1.3.0/src/learner.cc:1061: Starting in XGBoost 1.3.0, the default evaluation metric used with the objective 'binary:logistic' was changed from 'error' to 'logloss'. Explicitly set eval_metric if you'd like to restore the old behavior.\n"
     ]
    },
    {
     "data": {
      "text/plain": [
       "XGBClassifier(base_score=0.5, booster='gbtree', colsample_bylevel=0.8,\n",
       "              colsample_bynode=1, colsample_bytree=0.8, gamma=0, gpu_id=-1,\n",
       "              importance_type='gain', interaction_constraints='',\n",
       "              learning_rate=0.1, max_delta_step=0, max_depth=400,\n",
       "              min_child_weight=1, missing=nan, monotone_constraints='()',\n",
       "              n_estimators=400, n_jobs=8, num_parallel_tree=1, random_state=5,\n",
       "              reg_alpha=0, reg_lambda=1, scale_pos_weight=1, subsample=0.8,\n",
       "              tree_method='exact', validate_parameters=1, verbosity=None)"
      ]
     },
     "execution_count": 104,
     "metadata": {},
     "output_type": "execute_result"
    }
   ],
   "source": [
    "model_xgb.fit(train_X_xgb, train_y_xgb, early_stopping_rounds=200, \n",
    "             eval_set=[(val_X_xgb, val_y_xgb)], verbose=False)"
   ]
  },
  {
   "cell_type": "code",
   "execution_count": 105,
   "metadata": {},
   "outputs": [],
   "source": [
    "#Make predictions for train data\n",
    "train_xgb_pred = model_xgb.predict(train_X_xgb)\n",
    "predictions_xgb = [round(value) for value in train_xgb_pred]\n",
    "\n",
    "# Make predictions for test data\n",
    "xgb_pred = model_xgb.predict(val_X_xgb)\n",
    "predictions = [round(value) for value in xgb_pred]\n"
   ]
  },
  {
   "cell_type": "code",
   "execution_count": 117,
   "metadata": {},
   "outputs": [
    {
     "name": "stdout",
     "output_type": "stream",
     "text": [
      "              precision    recall  f1-score   support\n",
      "\n",
      "           0       1.00      1.00      1.00     85308\n",
      "           1       0.95      0.77      0.85       135\n",
      "\n",
      "    accuracy                           1.00     85443\n",
      "   macro avg       0.98      0.89      0.93     85443\n",
      "weighted avg       1.00      1.00      1.00     85443\n",
      "\n",
      "\n",
      "\n",
      "Train Accuracy: 99.98%\n",
      "Validation Accuracy: 99.96%\n"
     ]
    }
   ],
   "source": [
    "# Evaluate predictions\n",
    "print(classification_report(val_y_xgb,predictions))\n",
    "\n",
    "print('\\n')\n",
    "print(\"Train Accuracy: %.2f%%\" % ((accuracy_score(train_y_xgb, predictions_xgb)) * 100.0))\n",
    "print(\"Validation Accuracy: %.2f%%\" % ((accuracy_score(val_y_xgb, predictions)) * 100.0))"
   ]
  },
  {
   "cell_type": "code",
   "execution_count": 115,
   "metadata": {},
   "outputs": [
    {
     "name": "stdout",
     "output_type": "stream",
     "text": [
      "XGBoost Summary Metrics\n",
      "Precision is: 95.41%\n",
      "Recall    is: 77.04%\n",
      "Accuracy  is: 99.96%\n",
      "F1-score  is: 85.25%\n",
      "\n",
      "\n"
     ]
    }
   ],
   "source": [
    "print(\"XGBoost Summary Metrics\")\n",
    "print(\"Precision is: %.2f%%\" % round(precision_score(val_y_xgb,predictions)*100, 2))\n",
    "print(\"Recall    is: %.2f%%\" % round(recall_score(val_y_xgb,predictions)*100, 2))\n",
    "print(\"Accuracy  is: %.2f%%\" % round(accuracy_score(val_y_xgb,predictions)*100, 2))\n",
    "print(\"F1-score  is: %.2f%%\" % round(f1_score(val_y_xgb,predictions)*100, 2))\n",
    "print('\\n')"
   ]
  },
  {
   "cell_type": "markdown",
   "metadata": {},
   "source": [
    "#### 3. Penalized-SVM Technique"
   ]
  },
  {
   "cell_type": "code",
   "execution_count": null,
   "metadata": {},
   "outputs": [],
   "source": [
    "from sklearn.svm import SVC\n",
    "\n",
    "# Train model\n",
    "svm = SVC(kernel='linear', \n",
    "            class_weight='balanced', # penalize\n",
    "            probability=True)\n",
    " \n",
    "svm.fit(train_X, train_y.values.ravel())"
   ]
  },
  {
   "cell_type": "code",
   "execution_count": 97,
   "metadata": {},
   "outputs": [
    {
     "name": "stdout",
     "output_type": "stream",
     "text": [
      "[0 1]\n",
      "0.9887995505775781\n"
     ]
    }
   ],
   "source": [
    "# Predict on training set\n",
    "svm_predict = svm.predict(val_X)\n",
    " \n",
    "# Is our model still predicting just one class?\n",
    "print( np.unique( svm_predict ))\n",
    " \n",
    "# How's our accuracy?\n",
    "print( accuracy_score(val_y, svm_predict) )\n"
   ]
  },
  {
   "cell_type": "code",
   "execution_count": 103,
   "metadata": {},
   "outputs": [
    {
     "name": "stdout",
     "output_type": "stream",
     "text": [
      "AUROC is 0.977659591074165\n"
     ]
    }
   ],
   "source": [
    " # What about AUROC?\n",
    "svm_predict = svm.predict_proba(train_X)\n",
    "svm_predict = [p[1] for p in svm_predict]\n"
   ]
  },
  {
   "cell_type": "code",
   "execution_count": 104,
   "metadata": {},
   "outputs": [
    {
     "name": "stdout",
     "output_type": "stream",
     "text": [
      "AUROC is 0.977659591074165\n"
     ]
    }
   ],
   "source": [
    "print( \"AUROC is\", roc_auc_score(train_y, svm_predict) )"
   ]
  },
  {
   "cell_type": "markdown",
   "metadata": {},
   "source": [
    "#### 4. Decision Tree Technique: Classification and Regression Trees"
   ]
  },
  {
   "cell_type": "code",
   "execution_count": 24,
   "metadata": {},
   "outputs": [
    {
     "name": "stdout",
     "output_type": "stream",
     "text": [
      "Max leaf nodes: 5  \t\t Mean Absolute Error: 0.00128005 0\n",
      "Max leaf nodes: 50  \t\t Mean Absolute Error: 0.00076643 0\n",
      "Max leaf nodes: 90  \t\t Mean Absolute Error: 0.00078422 0\n",
      "Max leaf nodes: 100  \t\t Mean Absolute Error: 0.00075942 0\n",
      "Max leaf nodes: 110  \t\t Mean Absolute Error: 0.00078090 0\n",
      "Max leaf nodes: 120  \t\t Mean Absolute Error: 0.00078451 0\n",
      "Max leaf nodes: 130  \t\t Mean Absolute Error: 0.00080594 0\n",
      "Max leaf nodes: 200  \t\t Mean Absolute Error: 0.00081926 0\n"
     ]
    }
   ],
   "source": [
    "# What's the number of leafs that provide the least prediction error\n",
    "def get_mae(max_leaf_nodes, train_X, val_X, train_y, val_y):\n",
    "    DecisionTree_model = DecisionTreeRegressor(max_leaf_nodes=max_leaf_nodes, random_state=1) # Define model\n",
    "    DecisionTree_model.fit(train_X, train_y) # Fit model\n",
    "    dt_val_predictions = DecisionTree_model.predict(val_X) # get predicted prices on validation data\n",
    "    mae = mean_absolute_error(val_y, dt_val_predictions) #Model quality: Prediction error for each credit card\n",
    "    return(mae)\n",
    "\n",
    "for max_leaf_nodes in [5, 50, 90, 100, 110, 120, 130, 200]:\n",
    "    my_mae = get_mae(max_leaf_nodes, train_X, val_X, train_y, val_y)\n",
    "    print(\"Max leaf nodes: %d  \\t\\t Mean Absolute Error: {:.8f} %d\".format(my_mae) %(max_leaf_nodes, my_mae))\n",
    "    \n",
    "# 100 leafs is optimal"
   ]
  },
  {
   "cell_type": "code",
   "execution_count": 27,
   "metadata": {},
   "outputs": [
    {
     "name": "stdout",
     "output_type": "stream",
     "text": [
      "0.000759420228766441\n"
     ]
    }
   ],
   "source": [
    "# Model with 100 leaves\n",
    "DecisionTree_model_c = DecisionTreeRegressor(max_leaf_nodes=100, random_state=1)\n",
    "DecisionTree_model_c.fit(train_X, train_y)\n",
    "dt_val_predictions_c = DecisionTree_model_c.predict(val_X)\n",
    "print(mean_absolute_error(val_y, dt_val_predictions_c))\n"
   ]
  },
  {
   "cell_type": "code",
   "execution_count": 28,
   "metadata": {},
   "outputs": [
    {
     "data": {
      "text/plain": [
       "array([5.60063723e-05])"
      ]
     },
     "execution_count": 28,
     "metadata": {},
     "output_type": "execute_result"
    }
   ],
   "source": [
    "# Predict for 1 observation\n",
    "DecisionTree_model_c.predict(val_X.iloc[0].values.reshape(1, -1))"
   ]
  },
  {
   "cell_type": "code",
   "execution_count": 29,
   "metadata": {},
   "outputs": [
    {
     "data": {
      "text/plain": [
       "array([5.60063723e-05, 5.60063723e-05, 5.60063723e-05, 5.60063723e-05,\n",
       "       3.55691057e-04])"
      ]
     },
     "execution_count": 29,
     "metadata": {},
     "output_type": "execute_result"
    }
   ],
   "source": [
    "# Predict for multiple observations\n",
    "DecisionTree_model_c.predict(val_X[0:5])"
   ]
  },
  {
   "cell_type": "code",
   "execution_count": null,
   "metadata": {},
   "outputs": [],
   "source": [
    "# Finding precision and recall\n",
    "print(\"Decision Tree Summary Metrics\")"
   ]
  },
  {
   "cell_type": "markdown",
   "metadata": {},
   "source": [
    "#### 5. Random Forest"
   ]
  },
  {
   "cell_type": "code",
   "execution_count": 106,
   "metadata": {},
   "outputs": [
    {
     "name": "stdout",
     "output_type": "stream",
     "text": [
      "0.0009223119493797595\n"
     ]
    }
   ],
   "source": [
    "# Define model\n",
    "#Forest_model = RandomForestRegressor(max_leaf_nodes=100, random_state=1)\n",
    "Forest_model = RandomForestClassifier()\n",
    "# Fit model\n",
    "#Forest_model.fit(train_X, train_y.values.ravel())\n",
    "Forest_model.fit(train_X, train_y)\n",
    "\n",
    "# Get predicted prices on validation data\n",
    "forest_val_predictions = Forest_model.predict(val_X)\n",
    "\n",
    "# Model quality: Prediction error for each card\n",
    "print(mean_absolute_error(val_y, forest_val_predictions))\n",
    "\n",
    "# Accuracy\n",
    "print( accuracy_score(val_y, forest_val_predictions) )\n",
    " \n",
    "# What about AUROC?\n",
    "prob_y_rf = Forest_model.predict_proba(val_X)\n",
    "prob_y_rf = [p[1] for p in prob_y_rf]\n",
    "print( roc_auc_score(y, prob_y_rf) )"
   ]
  },
  {
   "cell_type": "code",
   "execution_count": null,
   "metadata": {},
   "outputs": [],
   "source": [
    "# Finding precision and recall\n",
    "print(\"Random Forest Summary Metrics\")\n",
    "\n"
   ]
  }
 ],
 "metadata": {
  "kernelspec": {
   "display_name": "Python 3",
   "language": "python",
   "name": "python3"
  },
  "language_info": {
   "codemirror_mode": {
    "name": "ipython",
    "version": 3
   },
   "file_extension": ".py",
   "mimetype": "text/x-python",
   "name": "python",
   "nbconvert_exporter": "python",
   "pygments_lexer": "ipython3",
   "version": "3.8.5"
  }
 },
 "nbformat": 4,
 "nbformat_minor": 4
}
