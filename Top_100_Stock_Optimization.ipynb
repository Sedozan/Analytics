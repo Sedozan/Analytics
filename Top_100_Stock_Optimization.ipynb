{
  "nbformat": 4,
  "nbformat_minor": 0,
  "metadata": {
    "colab": {
      "name": "Top 100 Stock Optimization.ipynb",
      "provenance": [],
      "authorship_tag": "ABX9TyMa2PR9EUx1eNkkNzOrsmWl"
    },
    "kernelspec": {
      "name": "python3",
      "display_name": "Python 3"
    }
  },
  "cells": [
    {
      "cell_type": "code",
      "metadata": {
        "id": "vy_mNPtFwHRz"
      },
      "source": [
        "#Description: This program optimizes a stock portfolio by modeling closing price of top 100 most popular stocks on Robinhood. Data collected from 02/19/2019 to 02/19/2021"
      ],
      "execution_count": null,
      "outputs": []
    },
    {
      "cell_type": "code",
      "metadata": {
        "id": "PqUXyV9Ev_Rl"
      },
      "source": [
        "import pandas as pd\r\n",
        "import numpy as np\r\n",
        "import requests\r\n",
        "\r\n",
        "from datetime import datetime\r\n",
        "from concurrent import futures\r\n",
        "\r\n",
        "from matplotlib.ticker import FuncFormatter\r\n",
        "from pandas import DataFrame\r\n",
        "import pandas_datareader.data as web\r\n"
      ],
      "execution_count": 3,
      "outputs": []
    },
    {
      "cell_type": "code",
      "metadata": {
        "id": "L-tXlWcqwSjD"
      },
      "source": [
        "df = pd.read_csv('Top_100_Stocks.csv')"
      ],
      "execution_count": 5,
      "outputs": []
    },
    {
      "cell_type": "code",
      "metadata": {
        "colab": {
          "base_uri": "https://localhost:8080/",
          "height": 253
        },
        "id": "YlH2lZB9wXsc",
        "outputId": "37bb62ad-412b-4b65-b354-690d93f0763d"
      },
      "source": [
        "df.head()"
      ],
      "execution_count": 6,
      "outputs": [
        {
          "output_type": "execute_result",
          "data": {
            "text/html": [
              "<div>\n",
              "<style scoped>\n",
              "    .dataframe tbody tr th:only-of-type {\n",
              "        vertical-align: middle;\n",
              "    }\n",
              "\n",
              "    .dataframe tbody tr th {\n",
              "        vertical-align: top;\n",
              "    }\n",
              "\n",
              "    .dataframe thead th {\n",
              "        text-align: right;\n",
              "    }\n",
              "</style>\n",
              "<table border=\"1\" class=\"dataframe\">\n",
              "  <thead>\n",
              "    <tr style=\"text-align: right;\">\n",
              "      <th></th>\n",
              "      <th>Date</th>\n",
              "      <th>AAL</th>\n",
              "      <th>AAPL</th>\n",
              "      <th>ABNB</th>\n",
              "      <th>ACB</th>\n",
              "      <th>AMC</th>\n",
              "      <th>AMD</th>\n",
              "      <th>AMZN</th>\n",
              "      <th>APHA</th>\n",
              "      <th>ARKK</th>\n",
              "      <th>BA</th>\n",
              "      <th>BABA</th>\n",
              "      <th>BAC</th>\n",
              "      <th>BB</th>\n",
              "      <th>BLNK</th>\n",
              "      <th>BNGO</th>\n",
              "      <th>CCIV</th>\n",
              "      <th>CCL</th>\n",
              "      <th>CGC</th>\n",
              "      <th>CPRX</th>\n",
              "      <th>CRON</th>\n",
              "      <th>CTRM</th>\n",
              "      <th>DAL</th>\n",
              "      <th>DIS</th>\n",
              "      <th>DKNG</th>\n",
              "      <th>DNN</th>\n",
              "      <th>ET</th>\n",
              "      <th>F</th>\n",
              "      <th>FB</th>\n",
              "      <th>FCEL</th>\n",
              "      <th>FUBO</th>\n",
              "      <th>GE</th>\n",
              "      <th>GEVO</th>\n",
              "      <th>GM</th>\n",
              "      <th>GME</th>\n",
              "      <th>GNUS</th>\n",
              "      <th>GOOGL</th>\n",
              "      <th>GPRO</th>\n",
              "      <th>GSAT</th>\n",
              "      <th>HEXO</th>\n",
              "      <th>...</th>\n",
              "      <th>NRZ</th>\n",
              "      <th>NVDA</th>\n",
              "      <th>OCGN</th>\n",
              "      <th>OGI</th>\n",
              "      <th>PENN</th>\n",
              "      <th>PFE</th>\n",
              "      <th>PLTR</th>\n",
              "      <th>PLUG</th>\n",
              "      <th>PSEC</th>\n",
              "      <th>PTON</th>\n",
              "      <th>PYPL</th>\n",
              "      <th>RCL</th>\n",
              "      <th>RIOT</th>\n",
              "      <th>RYCEY</th>\n",
              "      <th>SAVE</th>\n",
              "      <th>SBUX</th>\n",
              "      <th>SENS</th>\n",
              "      <th>SIRI</th>\n",
              "      <th>SNAP</th>\n",
              "      <th>SNDL</th>\n",
              "      <th>SNE</th>\n",
              "      <th>SOS</th>\n",
              "      <th>SPCE</th>\n",
              "      <th>SPY</th>\n",
              "      <th>SQ</th>\n",
              "      <th>T</th>\n",
              "      <th>TLRY</th>\n",
              "      <th>TNXP</th>\n",
              "      <th>TSLA</th>\n",
              "      <th>TWTR</th>\n",
              "      <th>TXMD</th>\n",
              "      <th>UAL</th>\n",
              "      <th>UBER</th>\n",
              "      <th>VOO</th>\n",
              "      <th>WKHS</th>\n",
              "      <th>WMT</th>\n",
              "      <th>XOM</th>\n",
              "      <th>ZM</th>\n",
              "      <th>ZNGA</th>\n",
              "      <th>ZOM</th>\n",
              "    </tr>\n",
              "  </thead>\n",
              "  <tbody>\n",
              "    <tr>\n",
              "      <th>0</th>\n",
              "      <td>2/21/19</td>\n",
              "      <td>34.980000</td>\n",
              "      <td>42.764999</td>\n",
              "      <td>NaN</td>\n",
              "      <td>84.720001</td>\n",
              "      <td>13.70</td>\n",
              "      <td>23.920000</td>\n",
              "      <td>1619.439941</td>\n",
              "      <td>10.38</td>\n",
              "      <td>44.700001</td>\n",
              "      <td>417.579987</td>\n",
              "      <td>171.660004</td>\n",
              "      <td>29.290001</td>\n",
              "      <td>8.37</td>\n",
              "      <td>3.58</td>\n",
              "      <td>4.02</td>\n",
              "      <td>NaN</td>\n",
              "      <td>58.27</td>\n",
              "      <td>45.040001</td>\n",
              "      <td>2.85</td>\n",
              "      <td>22.469999</td>\n",
              "      <td>5.20</td>\n",
              "      <td>51.480000</td>\n",
              "      <td>114.290001</td>\n",
              "      <td>NaN</td>\n",
              "      <td>0.53</td>\n",
              "      <td>15.54</td>\n",
              "      <td>8.71</td>\n",
              "      <td>160.039993</td>\n",
              "      <td>6.96</td>\n",
              "      <td>NaN</td>\n",
              "      <td>9.644231</td>\n",
              "      <td>2.62</td>\n",
              "      <td>39.619999</td>\n",
              "      <td>11.03</td>\n",
              "      <td>2.05</td>\n",
              "      <td>1104.209961</td>\n",
              "      <td>6.07</td>\n",
              "      <td>0.64</td>\n",
              "      <td>23.639999</td>\n",
              "      <td>...</td>\n",
              "      <td>16.570000</td>\n",
              "      <td>155.770004</td>\n",
              "      <td>8.04</td>\n",
              "      <td>NaN</td>\n",
              "      <td>24.080000</td>\n",
              "      <td>39.981026</td>\n",
              "      <td>NaN</td>\n",
              "      <td>1.78</td>\n",
              "      <td>6.70</td>\n",
              "      <td>NaN</td>\n",
              "      <td>94.959999</td>\n",
              "      <td>120.970001</td>\n",
              "      <td>3.52</td>\n",
              "      <td>12.82</td>\n",
              "      <td>59.580002</td>\n",
              "      <td>70.699997</td>\n",
              "      <td>2.68</td>\n",
              "      <td>6.08</td>\n",
              "      <td>9.39</td>\n",
              "      <td>NaN</td>\n",
              "      <td>47.639999</td>\n",
              "      <td>11.8</td>\n",
              "      <td>10.18</td>\n",
              "      <td>277.420013</td>\n",
              "      <td>74.430000</td>\n",
              "      <td>30.830000</td>\n",
              "      <td>79.199997</td>\n",
              "      <td>19.600000</td>\n",
              "      <td>58.245998</td>\n",
              "      <td>30.760000</td>\n",
              "      <td>5.09</td>\n",
              "      <td>88.839996</td>\n",
              "      <td>NaN</td>\n",
              "      <td>255.080002</td>\n",
              "      <td>0.953</td>\n",
              "      <td>99.389999</td>\n",
              "      <td>77.820000</td>\n",
              "      <td>NaN</td>\n",
              "      <td>4.96</td>\n",
              "      <td>0.70</td>\n",
              "    </tr>\n",
              "    <tr>\n",
              "      <th>1</th>\n",
              "      <td>2/22/19</td>\n",
              "      <td>35.490002</td>\n",
              "      <td>43.242500</td>\n",
              "      <td>NaN</td>\n",
              "      <td>83.519997</td>\n",
              "      <td>13.87</td>\n",
              "      <td>24.360001</td>\n",
              "      <td>1631.560059</td>\n",
              "      <td>10.18</td>\n",
              "      <td>45.770000</td>\n",
              "      <td>424.049988</td>\n",
              "      <td>176.919998</td>\n",
              "      <td>29.080000</td>\n",
              "      <td>8.63</td>\n",
              "      <td>3.51</td>\n",
              "      <td>3.98</td>\n",
              "      <td>NaN</td>\n",
              "      <td>58.82</td>\n",
              "      <td>44.540001</td>\n",
              "      <td>2.91</td>\n",
              "      <td>21.920000</td>\n",
              "      <td>5.20</td>\n",
              "      <td>51.520000</td>\n",
              "      <td>115.250000</td>\n",
              "      <td>NaN</td>\n",
              "      <td>0.54</td>\n",
              "      <td>15.37</td>\n",
              "      <td>8.71</td>\n",
              "      <td>161.889999</td>\n",
              "      <td>7.08</td>\n",
              "      <td>NaN</td>\n",
              "      <td>9.778846</td>\n",
              "      <td>2.54</td>\n",
              "      <td>39.990002</td>\n",
              "      <td>11.37</td>\n",
              "      <td>2.10</td>\n",
              "      <td>1116.560059</td>\n",
              "      <td>6.21</td>\n",
              "      <td>0.59</td>\n",
              "      <td>23.600000</td>\n",
              "      <td>...</td>\n",
              "      <td>16.540001</td>\n",
              "      <td>159.190002</td>\n",
              "      <td>7.80</td>\n",
              "      <td>NaN</td>\n",
              "      <td>25.139999</td>\n",
              "      <td>40.759014</td>\n",
              "      <td>NaN</td>\n",
              "      <td>1.80</td>\n",
              "      <td>6.89</td>\n",
              "      <td>NaN</td>\n",
              "      <td>95.980003</td>\n",
              "      <td>120.930000</td>\n",
              "      <td>3.95</td>\n",
              "      <td>12.81</td>\n",
              "      <td>60.119999</td>\n",
              "      <td>71.300003</td>\n",
              "      <td>2.72</td>\n",
              "      <td>6.06</td>\n",
              "      <td>9.71</td>\n",
              "      <td>NaN</td>\n",
              "      <td>47.889999</td>\n",
              "      <td>11.9</td>\n",
              "      <td>10.16</td>\n",
              "      <td>279.140015</td>\n",
              "      <td>76.080002</td>\n",
              "      <td>31.150000</td>\n",
              "      <td>79.070000</td>\n",
              "      <td>19.200001</td>\n",
              "      <td>58.942001</td>\n",
              "      <td>31.709999</td>\n",
              "      <td>5.40</td>\n",
              "      <td>89.430000</td>\n",
              "      <td>NaN</td>\n",
              "      <td>256.609985</td>\n",
              "      <td>0.970</td>\n",
              "      <td>99.550003</td>\n",
              "      <td>78.419998</td>\n",
              "      <td>NaN</td>\n",
              "      <td>5.03</td>\n",
              "      <td>0.87</td>\n",
              "    </tr>\n",
              "    <tr>\n",
              "      <th>2</th>\n",
              "      <td>2/25/19</td>\n",
              "      <td>35.900002</td>\n",
              "      <td>43.557499</td>\n",
              "      <td>NaN</td>\n",
              "      <td>87.480003</td>\n",
              "      <td>13.64</td>\n",
              "      <td>24.709999</td>\n",
              "      <td>1633.000000</td>\n",
              "      <td>9.69</td>\n",
              "      <td>46.389999</td>\n",
              "      <td>426.869995</td>\n",
              "      <td>183.250000</td>\n",
              "      <td>29.270000</td>\n",
              "      <td>8.75</td>\n",
              "      <td>3.20</td>\n",
              "      <td>4.14</td>\n",
              "      <td>NaN</td>\n",
              "      <td>58.57</td>\n",
              "      <td>43.860001</td>\n",
              "      <td>2.88</td>\n",
              "      <td>20.250000</td>\n",
              "      <td>5.23</td>\n",
              "      <td>51.410000</td>\n",
              "      <td>113.589996</td>\n",
              "      <td>NaN</td>\n",
              "      <td>0.53</td>\n",
              "      <td>15.37</td>\n",
              "      <td>8.76</td>\n",
              "      <td>164.619995</td>\n",
              "      <td>6.00</td>\n",
              "      <td>NaN</td>\n",
              "      <td>10.403846</td>\n",
              "      <td>2.54</td>\n",
              "      <td>40.139999</td>\n",
              "      <td>11.55</td>\n",
              "      <td>2.09</td>\n",
              "      <td>1117.329956</td>\n",
              "      <td>6.32</td>\n",
              "      <td>0.55</td>\n",
              "      <td>22.719999</td>\n",
              "      <td>...</td>\n",
              "      <td>16.530001</td>\n",
              "      <td>158.690002</td>\n",
              "      <td>7.92</td>\n",
              "      <td>NaN</td>\n",
              "      <td>25.190001</td>\n",
              "      <td>40.872864</td>\n",
              "      <td>NaN</td>\n",
              "      <td>1.75</td>\n",
              "      <td>6.88</td>\n",
              "      <td>NaN</td>\n",
              "      <td>96.699997</td>\n",
              "      <td>120.559998</td>\n",
              "      <td>3.59</td>\n",
              "      <td>12.78</td>\n",
              "      <td>60.590000</td>\n",
              "      <td>71.050003</td>\n",
              "      <td>2.96</td>\n",
              "      <td>6.02</td>\n",
              "      <td>10.12</td>\n",
              "      <td>NaN</td>\n",
              "      <td>48.459999</td>\n",
              "      <td>13.4</td>\n",
              "      <td>10.11</td>\n",
              "      <td>279.519989</td>\n",
              "      <td>77.129997</td>\n",
              "      <td>31.129999</td>\n",
              "      <td>77.389999</td>\n",
              "      <td>19.000000</td>\n",
              "      <td>59.754002</td>\n",
              "      <td>31.990000</td>\n",
              "      <td>5.44</td>\n",
              "      <td>89.580002</td>\n",
              "      <td>NaN</td>\n",
              "      <td>256.989990</td>\n",
              "      <td>0.980</td>\n",
              "      <td>99.120003</td>\n",
              "      <td>78.500000</td>\n",
              "      <td>NaN</td>\n",
              "      <td>5.03</td>\n",
              "      <td>1.00</td>\n",
              "    </tr>\n",
              "    <tr>\n",
              "      <th>3</th>\n",
              "      <td>2/26/19</td>\n",
              "      <td>36.250000</td>\n",
              "      <td>43.582500</td>\n",
              "      <td>NaN</td>\n",
              "      <td>93.000000</td>\n",
              "      <td>13.56</td>\n",
              "      <td>24.209999</td>\n",
              "      <td>1636.400024</td>\n",
              "      <td>10.32</td>\n",
              "      <td>46.040001</td>\n",
              "      <td>426.769989</td>\n",
              "      <td>183.539993</td>\n",
              "      <td>29.290001</td>\n",
              "      <td>8.67</td>\n",
              "      <td>3.75</td>\n",
              "      <td>4.17</td>\n",
              "      <td>NaN</td>\n",
              "      <td>58.25</td>\n",
              "      <td>46.259998</td>\n",
              "      <td>3.05</td>\n",
              "      <td>21.639999</td>\n",
              "      <td>5.18</td>\n",
              "      <td>51.119999</td>\n",
              "      <td>113.500000</td>\n",
              "      <td>NaN</td>\n",
              "      <td>0.55</td>\n",
              "      <td>14.91</td>\n",
              "      <td>8.88</td>\n",
              "      <td>164.130005</td>\n",
              "      <td>5.52</td>\n",
              "      <td>NaN</td>\n",
              "      <td>10.660000</td>\n",
              "      <td>2.52</td>\n",
              "      <td>40.110001</td>\n",
              "      <td>11.64</td>\n",
              "      <td>2.04</td>\n",
              "      <td>1122.010010</td>\n",
              "      <td>6.29</td>\n",
              "      <td>0.54</td>\n",
              "      <td>22.639999</td>\n",
              "      <td>...</td>\n",
              "      <td>16.540001</td>\n",
              "      <td>157.100006</td>\n",
              "      <td>7.74</td>\n",
              "      <td>NaN</td>\n",
              "      <td>25.160000</td>\n",
              "      <td>40.815941</td>\n",
              "      <td>NaN</td>\n",
              "      <td>1.77</td>\n",
              "      <td>6.91</td>\n",
              "      <td>NaN</td>\n",
              "      <td>96.589996</td>\n",
              "      <td>119.660004</td>\n",
              "      <td>3.60</td>\n",
              "      <td>12.94</td>\n",
              "      <td>61.009998</td>\n",
              "      <td>71.139999</td>\n",
              "      <td>3.02</td>\n",
              "      <td>5.92</td>\n",
              "      <td>10.08</td>\n",
              "      <td>NaN</td>\n",
              "      <td>48.189999</td>\n",
              "      <td>13.3</td>\n",
              "      <td>10.13</td>\n",
              "      <td>279.320007</td>\n",
              "      <td>77.949997</td>\n",
              "      <td>31.219999</td>\n",
              "      <td>78.800003</td>\n",
              "      <td>18.900000</td>\n",
              "      <td>59.571999</td>\n",
              "      <td>31.010000</td>\n",
              "      <td>5.70</td>\n",
              "      <td>89.529999</td>\n",
              "      <td>NaN</td>\n",
              "      <td>256.799988</td>\n",
              "      <td>0.975</td>\n",
              "      <td>98.690002</td>\n",
              "      <td>78.660004</td>\n",
              "      <td>NaN</td>\n",
              "      <td>5.03</td>\n",
              "      <td>0.96</td>\n",
              "    </tr>\n",
              "    <tr>\n",
              "      <th>4</th>\n",
              "      <td>2/27/19</td>\n",
              "      <td>35.689999</td>\n",
              "      <td>43.717499</td>\n",
              "      <td>NaN</td>\n",
              "      <td>90.480003</td>\n",
              "      <td>13.87</td>\n",
              "      <td>23.480000</td>\n",
              "      <td>1641.089966</td>\n",
              "      <td>10.19</td>\n",
              "      <td>46.720001</td>\n",
              "      <td>435.440002</td>\n",
              "      <td>184.580002</td>\n",
              "      <td>29.530001</td>\n",
              "      <td>8.68</td>\n",
              "      <td>3.58</td>\n",
              "      <td>4.17</td>\n",
              "      <td>NaN</td>\n",
              "      <td>57.68</td>\n",
              "      <td>45.750000</td>\n",
              "      <td>3.09</td>\n",
              "      <td>21.330000</td>\n",
              "      <td>5.10</td>\n",
              "      <td>50.430000</td>\n",
              "      <td>112.779999</td>\n",
              "      <td>NaN</td>\n",
              "      <td>0.55</td>\n",
              "      <td>14.86</td>\n",
              "      <td>8.78</td>\n",
              "      <td>162.809998</td>\n",
              "      <td>5.64</td>\n",
              "      <td>NaN</td>\n",
              "      <td>10.880000</td>\n",
              "      <td>2.48</td>\n",
              "      <td>40.000000</td>\n",
              "      <td>11.67</td>\n",
              "      <td>2.04</td>\n",
              "      <td>1122.890015</td>\n",
              "      <td>6.23</td>\n",
              "      <td>0.50</td>\n",
              "      <td>22.480000</td>\n",
              "      <td>...</td>\n",
              "      <td>16.549999</td>\n",
              "      <td>155.410004</td>\n",
              "      <td>7.62</td>\n",
              "      <td>NaN</td>\n",
              "      <td>25.379999</td>\n",
              "      <td>40.730549</td>\n",
              "      <td>NaN</td>\n",
              "      <td>1.79</td>\n",
              "      <td>6.87</td>\n",
              "      <td>NaN</td>\n",
              "      <td>97.860001</td>\n",
              "      <td>118.459999</td>\n",
              "      <td>3.21</td>\n",
              "      <td>13.08</td>\n",
              "      <td>58.570000</td>\n",
              "      <td>70.150002</td>\n",
              "      <td>2.89</td>\n",
              "      <td>5.92</td>\n",
              "      <td>9.81</td>\n",
              "      <td>NaN</td>\n",
              "      <td>48.430000</td>\n",
              "      <td>12.4</td>\n",
              "      <td>10.11</td>\n",
              "      <td>279.200012</td>\n",
              "      <td>79.320000</td>\n",
              "      <td>31.059999</td>\n",
              "      <td>79.300003</td>\n",
              "      <td>19.700001</td>\n",
              "      <td>62.948002</td>\n",
              "      <td>30.410000</td>\n",
              "      <td>5.83</td>\n",
              "      <td>87.599998</td>\n",
              "      <td>NaN</td>\n",
              "      <td>256.670013</td>\n",
              "      <td>0.980</td>\n",
              "      <td>98.110001</td>\n",
              "      <td>79.470001</td>\n",
              "      <td>NaN</td>\n",
              "      <td>5.15</td>\n",
              "      <td>1.02</td>\n",
              "    </tr>\n",
              "  </tbody>\n",
              "</table>\n",
              "<p>5 rows × 101 columns</p>\n",
              "</div>"
            ],
            "text/plain": [
              "      Date        AAL       AAPL  ABNB  ...        XOM  ZM  ZNGA   ZOM\n",
              "0  2/21/19  34.980000  42.764999   NaN  ...  77.820000 NaN  4.96  0.70\n",
              "1  2/22/19  35.490002  43.242500   NaN  ...  78.419998 NaN  5.03  0.87\n",
              "2  2/25/19  35.900002  43.557499   NaN  ...  78.500000 NaN  5.03  1.00\n",
              "3  2/26/19  36.250000  43.582500   NaN  ...  78.660004 NaN  5.03  0.96\n",
              "4  2/27/19  35.689999  43.717499   NaN  ...  79.470001 NaN  5.15  1.02\n",
              "\n",
              "[5 rows x 101 columns]"
            ]
          },
          "metadata": {
            "tags": []
          },
          "execution_count": 6
        }
      ]
    },
    {
      "cell_type": "code",
      "metadata": {
        "id": "KJ9AqOqYwZX4"
      },
      "source": [
        "#Set the date as index\r\n",
        "df = df.set_index(pd.DatetimeIndex(df['Date'].values))\r\n",
        "\r\n",
        "#Removing column date\r\n",
        "df.drop(columns=['Date'], axis=1, inplace = True)"
      ],
      "execution_count": 7,
      "outputs": []
    },
    {
      "cell_type": "code",
      "metadata": {
        "id": "22cal1vBwgGW"
      },
      "source": [
        "#Optimize the portfolio\r\n",
        "from pypfopt.efficient_frontier import EfficientFrontier \r\n",
        "from pypfopt import risk_models\r\n",
        "from pypfopt import expected_returns\r\n",
        "from pypfopt.cla import CLA\r\n",
        "from pypfopt import discrete_allocation\r\n",
        "import pypfopt.plotting as pplt"
      ],
      "execution_count": 8,
      "outputs": []
    },
    {
      "cell_type": "code",
      "metadata": {
        "id": "xpukCJi7wjcR"
      },
      "source": [
        "#Calculate the expected annualized returns\r\n",
        "mu = expected_returns.mean_historical_return(df)"
      ],
      "execution_count": 9,
      "outputs": []
    },
    {
      "cell_type": "code",
      "metadata": {
        "colab": {
          "base_uri": "https://localhost:8080/"
        },
        "id": "GLTCsaCEwmmE",
        "outputId": "82b56193-cb1b-485a-d283-d9ba1d123fcb"
      },
      "source": [
        "#Calculate the annualized sample covariance matrix of the daily asset returns\r\n",
        "S = risk_models.sample_cov(df)"
      ],
      "execution_count": 10,
      "outputs": [
        {
          "output_type": "stream",
          "text": [
            "/usr/local/lib/python3.6/dist-packages/pypfopt/risk_models.py:69: UserWarning: The covariance matrix is non positive semidefinite. Amending eigenvalues.\n",
            "  \"The covariance matrix is non positive semidefinite. Amending eigenvalues.\"\n",
            "/usr/local/lib/python3.6/dist-packages/pypfopt/risk_models.py:88: UserWarning: Could not fix matrix. Please try a different risk model.\n",
            "  \"Could not fix matrix. Please try a different risk model.\", UserWarning\n"
          ],
          "name": "stderr"
        }
      ]
    },
    {
      "cell_type": "code",
      "metadata": {
        "id": "Mlt9YGdiwsHl"
      },
      "source": [
        "ef = EfficientFrontier(mu, S) #creates the efficient frontier object\r\n",
        "weights = ef.max_sharpe() #maximize the sharpe ratio and produce the raw weights\r\n",
        "\r\n",
        "cleaned_weights = ef.clean_weights() #Helper method to clean the clean (absolute value and rounding) the raw weights\r\n"
      ],
      "execution_count": 51,
      "outputs": []
    },
    {
      "cell_type": "code",
      "metadata": {
        "colab": {
          "base_uri": "https://localhost:8080/"
        },
        "id": "HcynVPeR4sIL",
        "outputId": "0c56040b-1fc5-425d-9c2c-40219cc826f0"
      },
      "source": [
        "print(cleaned_weights)\r\n",
        "print('\\n')"
      ],
      "execution_count": 56,
      "outputs": [
        {
          "output_type": "stream",
          "text": [
            "OrderedDict([('AAL', 0.0), ('AAPL', 0.0), ('ABNB', 0.05144), ('ACB', 0.0), ('AMC', 0.05271), ('AMD', 0.0), ('AMZN', 0.0), ('APHA', 0.0), ('ARKK', 0.0), ('BA', 0.0), ('BABA', 0.0), ('BAC', 0.0), ('BB', 0.0), ('BLNK', 0.0), ('BNGO', 0.0), ('CCIV', 0.50669), ('CCL', 0.0), ('CGC', 0.0), ('CPRX', 0.0), ('CRON', 0.0), ('CTRM', 0.0), ('DAL', 0.0), ('DIS', 0.0), ('DKNG', 0.0), ('DNN', 0.0), ('ET', 0.0), ('F', 0.0), ('FB', 0.0), ('FCEL', 0.0), ('FUBO', 0.0), ('GE', 0.0), ('GEVO', 0.0), ('GM', 0.0), ('GME', 0.0), ('GNUS', 0.0), ('GOOGL', 0.0), ('GPRO', 0.0), ('GSAT', 0.0), ('HEXO', 0.0), ('IDEX', 0.0), ('INO', 0.0), ('IVR', 0.00443), ('JBLU', 0.0), ('JNJ', 0.0), ('KO', 0.0), ('LUV', 0.0), ('MARA', 0.0), ('MGM', 0.0), ('MRNA', 0.00371), ('MRO', 0.0), ('MSFT', 0.0), ('NAK', 0.0), ('NAKD', 0.03864), ('NCLH', 0.0), ('NFLX', 0.0), ('NIO', 0.0), ('NKE', 0.0), ('NKLA', 0.0), ('NNDM', 0.0), ('NOK', 0.0), ('NRZ', 0.0), ('NVDA', 0.0), ('OCGN', 0.0), ('OGI', 0.0), ('PENN', 0.0), ('PFE', 0.0), ('PLTR', 0.08553), ('PLUG', 0.0113), ('PSEC', 0.0), ('PTON', 0.05549), ('PYPL', 0.0), ('RCL', 0.0), ('RIOT', 0.0), ('RYCEY', 0.0), ('SAVE', 0.0), ('SBUX', 0.0), ('SENS', 0.0), ('SIRI', 0.0), ('SNAP', 0.0), ('SNDL', 0.01903), ('SNE', 0.0), ('SOS', 0.0), ('SPCE', 0.01807), ('SPY', 0.0), ('SQ', 0.0), ('T', 0.0), ('TLRY', 0.0), ('TNXP', 0.0), ('TSLA', 0.0), ('TWTR', 0.0), ('TXMD', 0.0), ('UAL', 0.0), ('UBER', 0.0), ('VOO', 0.0), ('WKHS', 0.01502), ('WMT', 0.0), ('XOM', 0.0), ('ZM', 0.0), ('ZNGA', 0.13795), ('ZOM', 0.0)])\n",
            "\n",
            "\n"
          ],
          "name": "stdout"
        }
      ]
    },
    {
      "cell_type": "code",
      "metadata": {
        "colab": {
          "base_uri": "https://localhost:8080/",
          "height": 297
        },
        "id": "1iFoElGg5hFQ",
        "outputId": "833a72d8-cebd-46ab-83f5-fa449884d31b"
      },
      "source": [
        "cl_obj = CLA(mu, S)\r\n",
        "\r\n",
        "#Plotting the Efficient Frontier and Optimizing Portfolio Allocation\r\n",
        "ax = pplt.plot_efficient_frontier(cl_obj, showfig = False)\r\n",
        "ax.xaxis.set_major_formatter(FuncFormatter(lambda x, _: '{:.0%}'.format(x)))\r\n",
        "ax.yaxis.set_major_formatter(FuncFormatter(lambda y, _: '{:.0%}'.format(y)))"
      ],
      "execution_count": 58,
      "outputs": [
        {
          "output_type": "display_data",
          "data": {
            "image/png": "[encoded data removed]",
            "text/plain": [
              "<Figure size 432x288 with 1 Axes>"
            ]
          },
          "metadata": {
            "tags": [],
            "needs_background": "light"
          }
        }
      ]
    },
    {
      "cell_type": "code",
      "metadata": {
        "colab": {
          "base_uri": "https://localhost:8080/"
        },
        "id": "D52J5tVWwyKe",
        "outputId": "4cbc9be8-75c0-4fe0-d4c0-b6401b2a8641"
      },
      "source": [
        "# 2year risk free rate - Treasury Yield as of 02/19/2021\r\n",
        "ef.portfolio_performance(verbose=True, risk_free_rate = 0.0134)"
      ],
      "execution_count": 57,
      "outputs": [
        {
          "output_type": "stream",
          "text": [
            "Expected annual return: 2991.1%\n",
            "Annual volatility: 52.0%\n",
            "Sharpe Ratio: 57.53\n"
          ],
          "name": "stdout"
        },
        {
          "output_type": "stream",
          "text": [
            "/usr/local/lib/python3.6/dist-packages/pypfopt/efficient_frontier/efficient_frontier.py:407: UserWarning: The risk_free_rate provided to portfolio_performance is different to the one used by max_sharpe. Using the previous value.\n",
            "  UserWarning,\n"
          ],
          "name": "stderr"
        },
        {
          "output_type": "execute_result",
          "data": {
            "text/plain": [
              "(29.911473688896915, 0.5195665421671534, 57.53155998886534)"
            ]
          },
          "metadata": {
            "tags": []
          },
          "execution_count": 57
        }
      ]
    },
    {
      "cell_type": "code",
      "metadata": {
        "id": "pMW_2nxGw4TB"
      },
      "source": [
        "#Convert the weights into an actual allocation, telling investors how many shares of each asset you should purchase\r\n",
        "from pypfopt.discrete_allocation import DiscreteAllocation, get_latest_prices"
      ],
      "execution_count": 17,
      "outputs": []
    },
    {
      "cell_type": "code",
      "metadata": {
        "id": "XVVvGlJBw8EK"
      },
      "source": [
        "#Allocation of a $10000 investment\r\n",
        "portfolio_val = 10000\r\n",
        "latest_prices = get_latest_prices(df)\r\n",
        "weights = cleaned_weights\r\n",
        "\r\n",
        "da = DiscreteAllocation(weights, latest_prices, total_portfolio_value = portfolio_val)\r\n",
        "allocation, leftover = da.lp_portfolio()"
      ],
      "execution_count": 22,
      "outputs": []
    },
    {
      "cell_type": "code",
      "metadata": {
        "colab": {
          "base_uri": "https://localhost:8080/"
        },
        "id": "cCTcR_z2xDqN",
        "outputId": "b87a1269-8483-4f96-a7a3-e1731dae14cd"
      },
      "source": [
        "print('Number of Stock to Buy:', allocation)\r\n",
        "print('Remaining Funds: $', leftover)"
      ],
      "execution_count": 26,
      "outputs": [
        {
          "output_type": "stream",
          "text": [
            "Number of Stock to Buy: {'ABNB': 3, 'AMC': 92, 'CCIV': 96, 'IVR': 12, 'NAKD': 316, 'PLTR': 29, 'PLUG': 2, 'PTON': 4, 'SNDL': 122, 'SPCE': 3, 'WKHS': 4, 'ZNGA': 113}\n",
            "Remaining Funds: $ 0.20006817000103183\n"
          ],
          "name": "stdout"
        }
      ]
    },
    {
      "cell_type": "code",
      "metadata": {
        "id": "l4zjL5Fzzjde"
      },
      "source": [
        "#Create a function to get the companies name\r\n",
        "def get_company_name(symbol):\r\n",
        "  url = 'http://d.yimg.com/autoc.finance.yahoo.com/autoc?query='+symbol+'&region=1&lang=en'\r\n",
        "  result = requests.get(url).json()\r\n",
        "  for r in result['ResultSet']['Result']:\r\n",
        "    if r['symbol']==symbol:\r\n",
        "      return r['name']"
      ],
      "execution_count": 36,
      "outputs": []
    },
    {
      "cell_type": "code",
      "metadata": {
        "id": "3Mxbzw-Q0sb_"
      },
      "source": [
        "\r\n",
        "company_name = []\r\n",
        "discrete_allocation_list = []\r\n",
        "for symbol in allocation:\r\n",
        "  #Store company name into a list\r\n",
        "  company_name.append(get_company_name(symbol))\r\n",
        "  #Get the discrete allocation values\r\n",
        "  discrete_allocation_list.append(allocation.get(symbol))"
      ],
      "execution_count": 46,
      "outputs": []
    },
    {
      "cell_type": "code",
      "metadata": {
        "id": "ClEvJI0D08j3"
      },
      "source": [
        "#Get the discrete allocation values\r\n",
        "discrete_allocation_list = []\r\n",
        "for symbol in allocation:\r\n",
        "  discrete_allocation_list.append(allocation.get(symbol))"
      ],
      "execution_count": 38,
      "outputs": []
    },
    {
      "cell_type": "code",
      "metadata": {
        "id": "_ujZcZRX1Tce"
      },
      "source": [
        "#Create a dataframe for the portfolio\r\n",
        "portfolio_df = pd.DataFrame(columns=['Company Name','Ticker', 'Stock Allocated for $'+str(portfolio_val)])"
      ],
      "execution_count": 47,
      "outputs": []
    },
    {
      "cell_type": "code",
      "metadata": {
        "id": "inqRqqkU15xJ"
      },
      "source": [
        "portfolio_df['Company Name'] = company_name\r\n",
        "portfolio_df['Ticker'] = allocation\r\n",
        "portfolio_df['Stock Allocated for $'+str(portfolio_val)] = discrete_allocation_list"
      ],
      "execution_count": 48,
      "outputs": []
    },
    {
      "cell_type": "code",
      "metadata": {
        "colab": {
          "base_uri": "https://localhost:8080/",
          "height": 421
        },
        "id": "B8BqTVXi2uOH",
        "outputId": "40357586-4644-4430-dc1f-003c4bc47f93"
      },
      "source": [
        "#Display optimized portfolio\r\n",
        "portfolio_df"
      ],
      "execution_count": 49,
      "outputs": [
        {
          "output_type": "execute_result",
          "data": {
            "text/html": [
              "<div>\n",
              "<style scoped>\n",
              "    .dataframe tbody tr th:only-of-type {\n",
              "        vertical-align: middle;\n",
              "    }\n",
              "\n",
              "    .dataframe tbody tr th {\n",
              "        vertical-align: top;\n",
              "    }\n",
              "\n",
              "    .dataframe thead th {\n",
              "        text-align: right;\n",
              "    }\n",
              "</style>\n",
              "<table border=\"1\" class=\"dataframe\">\n",
              "  <thead>\n",
              "    <tr style=\"text-align: right;\">\n",
              "      <th></th>\n",
              "      <th>Company Name</th>\n",
              "      <th>Ticker</th>\n",
              "      <th>Stock Allocated for $10000</th>\n",
              "    </tr>\n",
              "  </thead>\n",
              "  <tbody>\n",
              "    <tr>\n",
              "      <th>0</th>\n",
              "      <td>Airbnb, Inc.</td>\n",
              "      <td>ABNB</td>\n",
              "      <td>3</td>\n",
              "    </tr>\n",
              "    <tr>\n",
              "      <th>1</th>\n",
              "      <td>AMC Entertainment Holdings, Inc.</td>\n",
              "      <td>AMC</td>\n",
              "      <td>92</td>\n",
              "    </tr>\n",
              "    <tr>\n",
              "      <th>2</th>\n",
              "      <td>Churchill Capital Corp IV</td>\n",
              "      <td>CCIV</td>\n",
              "      <td>96</td>\n",
              "    </tr>\n",
              "    <tr>\n",
              "      <th>3</th>\n",
              "      <td>Invesco Mortgage Capital Inc.</td>\n",
              "      <td>IVR</td>\n",
              "      <td>12</td>\n",
              "    </tr>\n",
              "    <tr>\n",
              "      <th>4</th>\n",
              "      <td>Naked Brand Group Limited</td>\n",
              "      <td>NAKD</td>\n",
              "      <td>316</td>\n",
              "    </tr>\n",
              "    <tr>\n",
              "      <th>5</th>\n",
              "      <td>Palantir Technologies Inc.</td>\n",
              "      <td>PLTR</td>\n",
              "      <td>29</td>\n",
              "    </tr>\n",
              "    <tr>\n",
              "      <th>6</th>\n",
              "      <td>Plug Power Inc.</td>\n",
              "      <td>PLUG</td>\n",
              "      <td>2</td>\n",
              "    </tr>\n",
              "    <tr>\n",
              "      <th>7</th>\n",
              "      <td>Peloton Interactive, Inc.</td>\n",
              "      <td>PTON</td>\n",
              "      <td>4</td>\n",
              "    </tr>\n",
              "    <tr>\n",
              "      <th>8</th>\n",
              "      <td>Sundial Growers Inc.</td>\n",
              "      <td>SNDL</td>\n",
              "      <td>122</td>\n",
              "    </tr>\n",
              "    <tr>\n",
              "      <th>9</th>\n",
              "      <td>Virgin Galactic Holdings, Inc.</td>\n",
              "      <td>SPCE</td>\n",
              "      <td>3</td>\n",
              "    </tr>\n",
              "    <tr>\n",
              "      <th>10</th>\n",
              "      <td>Workhorse Group Inc.</td>\n",
              "      <td>WKHS</td>\n",
              "      <td>4</td>\n",
              "    </tr>\n",
              "    <tr>\n",
              "      <th>11</th>\n",
              "      <td>Zynga Inc.</td>\n",
              "      <td>ZNGA</td>\n",
              "      <td>113</td>\n",
              "    </tr>\n",
              "  </tbody>\n",
              "</table>\n",
              "</div>"
            ],
            "text/plain": [
              "                        Company Name Ticker  Stock Allocated for $10000\n",
              "0                       Airbnb, Inc.   ABNB                           3\n",
              "1   AMC Entertainment Holdings, Inc.    AMC                          92\n",
              "2          Churchill Capital Corp IV   CCIV                          96\n",
              "3      Invesco Mortgage Capital Inc.    IVR                          12\n",
              "4          Naked Brand Group Limited   NAKD                         316\n",
              "5         Palantir Technologies Inc.   PLTR                          29\n",
              "6                    Plug Power Inc.   PLUG                           2\n",
              "7          Peloton Interactive, Inc.   PTON                           4\n",
              "8               Sundial Growers Inc.   SNDL                         122\n",
              "9     Virgin Galactic Holdings, Inc.   SPCE                           3\n",
              "10              Workhorse Group Inc.   WKHS                           4\n",
              "11                        Zynga Inc.   ZNGA                         113"
            ]
          },
          "metadata": {
            "tags": []
          },
          "execution_count": 49
        }
      ]
    }
  ]
}