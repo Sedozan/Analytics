{
  "nbformat": 4,
  "nbformat_minor": 0,
  "metadata": {
    "colab": {
      "name": "top 100 stock optimization.ipynb",
      "provenance": [],
      "authorship_tag": "ABX9TyMxzn0Br7f7B/qfMb93sbjL"
    },
    "kernelspec": {
      "name": "python3",
      "display_name": "Python 3"
    }
  },
  "cells": [
    {
      "cell_type": "code",
      "metadata": {
        "id": "vy_mNPtFwHRz"
      },
      "source": [
        "#Description: This program optimizes a stock portfolio by modeling closing price of top 100 most popular stocks on Robinhood. Data collected from 02/19/2018 to 02/19/2021"
      ],
      "execution_count": null,
      "outputs": []
    },
    {
      "cell_type": "code",
      "metadata": {
        "id": "PqUXyV9Ev_Rl"
      },
      "source": [
        "import pandas as pd\r\n",
        "import numpy as np\r\n",
        "import requests\r\n",
        "\r\n",
        "from datetime import datetime\r\n",
        "from concurrent import futures\r\n",
        "\r\n",
        "from matplotlib.ticker import FuncFormatter\r\n",
        "from pandas import DataFrame\r\n",
        "import pandas_datareader.data as web\r\n"
      ],
      "execution_count": 63,
      "outputs": []
    },
    {
      "cell_type": "code",
      "metadata": {
        "id": "8qxwFSZNPIeC"
      },
      "source": [
        "pip install PyPortfolioOpt"
      ],
      "execution_count": null,
      "outputs": []
    },
    {
      "cell_type": "code",
      "metadata": {
        "id": "wafgKLOeNc-n"
      },
      "source": [
        "#Loading data\r\n",
        "from google.colab import files\r\n",
        "files.upload()"
      ],
      "execution_count": null,
      "outputs": []
    },
    {
      "cell_type": "code",
      "metadata": {
        "id": "L-tXlWcqwSjD"
      },
      "source": [
        "df = pd.read_csv('Momentum_3yrs.csv')"
      ],
      "execution_count": 66,
      "outputs": []
    },
    {
      "cell_type": "code",
      "metadata": {
        "colab": {
          "base_uri": "https://localhost:8080/",
          "height": 253
        },
        "id": "YlH2lZB9wXsc",
        "outputId": "f6977157-8728-4248-eb00-72132e404906"
      },
      "source": [
        "df.head()"
      ],
      "execution_count": 67,
      "outputs": [
        {
          "output_type": "execute_result",
          "data": {
            "text/html": [
              "<div>\n",
              "<style scoped>\n",
              "    .dataframe tbody tr th:only-of-type {\n",
              "        vertical-align: middle;\n",
              "    }\n",
              "\n",
              "    .dataframe tbody tr th {\n",
              "        vertical-align: top;\n",
              "    }\n",
              "\n",
              "    .dataframe thead th {\n",
              "        text-align: right;\n",
              "    }\n",
              "</style>\n",
              "<table border=\"1\" class=\"dataframe\">\n",
              "  <thead>\n",
              "    <tr style=\"text-align: right;\">\n",
              "      <th></th>\n",
              "      <th>Date</th>\n",
              "      <th>AAL</th>\n",
              "      <th>AAPL</th>\n",
              "      <th>ABNB</th>\n",
              "      <th>ACB</th>\n",
              "      <th>AMD</th>\n",
              "      <th>AMZN</th>\n",
              "      <th>APHA</th>\n",
              "      <th>ARKK</th>\n",
              "      <th>AZN</th>\n",
              "      <th>BA</th>\n",
              "      <th>BABA</th>\n",
              "      <th>BAC</th>\n",
              "      <th>BIOX</th>\n",
              "      <th>BLNK</th>\n",
              "      <th>BNGO</th>\n",
              "      <th>BNTX</th>\n",
              "      <th>BYDDY</th>\n",
              "      <th>BYND</th>\n",
              "      <th>CCIV</th>\n",
              "      <th>CCL</th>\n",
              "      <th>CGC</th>\n",
              "      <th>COST</th>\n",
              "      <th>CPRX</th>\n",
              "      <th>CRON</th>\n",
              "      <th>CTRM</th>\n",
              "      <th>DAL</th>\n",
              "      <th>DIS</th>\n",
              "      <th>DKNG</th>\n",
              "      <th>DNN</th>\n",
              "      <th>ET</th>\n",
              "      <th>F</th>\n",
              "      <th>FB</th>\n",
              "      <th>FCEL</th>\n",
              "      <th>FUBO</th>\n",
              "      <th>GE</th>\n",
              "      <th>GEVO</th>\n",
              "      <th>GM</th>\n",
              "      <th>GME</th>\n",
              "      <th>GNUS</th>\n",
              "      <th>...</th>\n",
              "      <th>OCGN</th>\n",
              "      <th>OGI</th>\n",
              "      <th>OXY</th>\n",
              "      <th>PENN</th>\n",
              "      <th>PFE</th>\n",
              "      <th>PLTR</th>\n",
              "      <th>PLUG</th>\n",
              "      <th>PSEC</th>\n",
              "      <th>PTON</th>\n",
              "      <th>PYPL</th>\n",
              "      <th>RCL</th>\n",
              "      <th>RIOT</th>\n",
              "      <th>RYCEY</th>\n",
              "      <th>SAVE</th>\n",
              "      <th>SBUX</th>\n",
              "      <th>SENS</th>\n",
              "      <th>SHOP</th>\n",
              "      <th>SIRI</th>\n",
              "      <th>SNAP</th>\n",
              "      <th>SNDL</th>\n",
              "      <th>SNE</th>\n",
              "      <th>SOS</th>\n",
              "      <th>SPCE</th>\n",
              "      <th>SPY</th>\n",
              "      <th>SQ</th>\n",
              "      <th>T</th>\n",
              "      <th>TLRY</th>\n",
              "      <th>TNXP</th>\n",
              "      <th>TSLA</th>\n",
              "      <th>TWTR</th>\n",
              "      <th>TXMD</th>\n",
              "      <th>UAL</th>\n",
              "      <th>UBER</th>\n",
              "      <th>VOO</th>\n",
              "      <th>WKHS</th>\n",
              "      <th>WMT</th>\n",
              "      <th>XOM</th>\n",
              "      <th>ZM</th>\n",
              "      <th>ZNGA</th>\n",
              "      <th>ZOM</th>\n",
              "    </tr>\n",
              "  </thead>\n",
              "  <tbody>\n",
              "    <tr>\n",
              "      <th>0</th>\n",
              "      <td>2/21/2018</td>\n",
              "      <td>52.779999</td>\n",
              "      <td>42.767502</td>\n",
              "      <td>NaN</td>\n",
              "      <td>101.040001</td>\n",
              "      <td>11.72</td>\n",
              "      <td>1482.920044</td>\n",
              "      <td>11.373</td>\n",
              "      <td>41.070000</td>\n",
              "      <td>33.830002</td>\n",
              "      <td>352.369995</td>\n",
              "      <td>188.820007</td>\n",
              "      <td>31.870001</td>\n",
              "      <td>NaN</td>\n",
              "      <td>3.01</td>\n",
              "      <td>NaN</td>\n",
              "      <td>NaN</td>\n",
              "      <td>18.809999</td>\n",
              "      <td>NaN</td>\n",
              "      <td>NaN</td>\n",
              "      <td>69.580002</td>\n",
              "      <td>22.594000</td>\n",
              "      <td>185.750000</td>\n",
              "      <td>3.15</td>\n",
              "      <td>NaN</td>\n",
              "      <td>NaN</td>\n",
              "      <td>53.160000</td>\n",
              "      <td>105.050003</td>\n",
              "      <td>NaN</td>\n",
              "      <td>0.48</td>\n",
              "      <td>16.260000</td>\n",
              "      <td>10.60</td>\n",
              "      <td>177.910004</td>\n",
              "      <td>20.760000</td>\n",
              "      <td>NaN</td>\n",
              "      <td>13.932692</td>\n",
              "      <td>9.6</td>\n",
              "      <td>40.560001</td>\n",
              "      <td>15.69</td>\n",
              "      <td>2.59</td>\n",
              "      <td>...</td>\n",
              "      <td>153.179993</td>\n",
              "      <td>NaN</td>\n",
              "      <td>67.209999</td>\n",
              "      <td>27.16</td>\n",
              "      <td>33.927895</td>\n",
              "      <td>NaN</td>\n",
              "      <td>1.99</td>\n",
              "      <td>6.72</td>\n",
              "      <td>NaN</td>\n",
              "      <td>76.510002</td>\n",
              "      <td>130.550003</td>\n",
              "      <td>10.60</td>\n",
              "      <td>11.82</td>\n",
              "      <td>39.910000</td>\n",
              "      <td>56.099998</td>\n",
              "      <td>2.64</td>\n",
              "      <td>132.899994</td>\n",
              "      <td>6.13</td>\n",
              "      <td>18.639999</td>\n",
              "      <td>NaN</td>\n",
              "      <td>49.500000</td>\n",
              "      <td>50.099998</td>\n",
              "      <td>10.00</td>\n",
              "      <td>270.049988</td>\n",
              "      <td>44.099998</td>\n",
              "      <td>36.310001</td>\n",
              "      <td>NaN</td>\n",
              "      <td>328.0</td>\n",
              "      <td>66.660004</td>\n",
              "      <td>33.380001</td>\n",
              "      <td>5.11</td>\n",
              "      <td>67.000000</td>\n",
              "      <td>NaN</td>\n",
              "      <td>248.110001</td>\n",
              "      <td>2.87</td>\n",
              "      <td>91.519997</td>\n",
              "      <td>74.889999</td>\n",
              "      <td>NaN</td>\n",
              "      <td>3.56</td>\n",
              "      <td>2.07</td>\n",
              "    </tr>\n",
              "    <tr>\n",
              "      <th>1</th>\n",
              "      <td>2/22/2018</td>\n",
              "      <td>52.980000</td>\n",
              "      <td>43.125000</td>\n",
              "      <td>NaN</td>\n",
              "      <td>101.519997</td>\n",
              "      <td>11.84</td>\n",
              "      <td>1485.339966</td>\n",
              "      <td>11.150</td>\n",
              "      <td>40.990002</td>\n",
              "      <td>33.689999</td>\n",
              "      <td>355.920013</td>\n",
              "      <td>188.750000</td>\n",
              "      <td>31.690001</td>\n",
              "      <td>NaN</td>\n",
              "      <td>3.05</td>\n",
              "      <td>NaN</td>\n",
              "      <td>NaN</td>\n",
              "      <td>18.719999</td>\n",
              "      <td>NaN</td>\n",
              "      <td>NaN</td>\n",
              "      <td>68.199997</td>\n",
              "      <td>22.340000</td>\n",
              "      <td>186.589996</td>\n",
              "      <td>3.15</td>\n",
              "      <td>NaN</td>\n",
              "      <td>NaN</td>\n",
              "      <td>52.549999</td>\n",
              "      <td>105.239998</td>\n",
              "      <td>NaN</td>\n",
              "      <td>0.48</td>\n",
              "      <td>16.670000</td>\n",
              "      <td>10.63</td>\n",
              "      <td>178.990005</td>\n",
              "      <td>20.520000</td>\n",
              "      <td>NaN</td>\n",
              "      <td>14.057692</td>\n",
              "      <td>9.6</td>\n",
              "      <td>40.910000</td>\n",
              "      <td>15.62</td>\n",
              "      <td>2.58</td>\n",
              "      <td>...</td>\n",
              "      <td>155.399994</td>\n",
              "      <td>NaN</td>\n",
              "      <td>67.919998</td>\n",
              "      <td>26.17</td>\n",
              "      <td>33.908916</td>\n",
              "      <td>NaN</td>\n",
              "      <td>1.88</td>\n",
              "      <td>6.70</td>\n",
              "      <td>NaN</td>\n",
              "      <td>77.699997</td>\n",
              "      <td>129.600006</td>\n",
              "      <td>9.98</td>\n",
              "      <td>11.84</td>\n",
              "      <td>39.480000</td>\n",
              "      <td>55.400002</td>\n",
              "      <td>2.68</td>\n",
              "      <td>134.179993</td>\n",
              "      <td>6.15</td>\n",
              "      <td>17.510000</td>\n",
              "      <td>NaN</td>\n",
              "      <td>49.849998</td>\n",
              "      <td>49.400002</td>\n",
              "      <td>10.02</td>\n",
              "      <td>270.399994</td>\n",
              "      <td>44.900002</td>\n",
              "      <td>36.470001</td>\n",
              "      <td>NaN</td>\n",
              "      <td>338.0</td>\n",
              "      <td>69.234001</td>\n",
              "      <td>32.110001</td>\n",
              "      <td>5.01</td>\n",
              "      <td>66.699997</td>\n",
              "      <td>NaN</td>\n",
              "      <td>248.410004</td>\n",
              "      <td>3.16</td>\n",
              "      <td>92.769997</td>\n",
              "      <td>75.860001</td>\n",
              "      <td>NaN</td>\n",
              "      <td>3.52</td>\n",
              "      <td>2.16</td>\n",
              "    </tr>\n",
              "    <tr>\n",
              "      <th>2</th>\n",
              "      <td>2/23/2018</td>\n",
              "      <td>53.389999</td>\n",
              "      <td>43.875000</td>\n",
              "      <td>NaN</td>\n",
              "      <td>100.211998</td>\n",
              "      <td>12.07</td>\n",
              "      <td>1500.000000</td>\n",
              "      <td>10.930</td>\n",
              "      <td>41.509998</td>\n",
              "      <td>34.009998</td>\n",
              "      <td>356.660004</td>\n",
              "      <td>193.289993</td>\n",
              "      <td>32.029999</td>\n",
              "      <td>NaN</td>\n",
              "      <td>2.99</td>\n",
              "      <td>NaN</td>\n",
              "      <td>NaN</td>\n",
              "      <td>18.740000</td>\n",
              "      <td>NaN</td>\n",
              "      <td>NaN</td>\n",
              "      <td>68.760002</td>\n",
              "      <td>22.040001</td>\n",
              "      <td>189.809998</td>\n",
              "      <td>3.23</td>\n",
              "      <td>NaN</td>\n",
              "      <td>NaN</td>\n",
              "      <td>53.459999</td>\n",
              "      <td>107.250000</td>\n",
              "      <td>NaN</td>\n",
              "      <td>0.50</td>\n",
              "      <td>16.700001</td>\n",
              "      <td>10.70</td>\n",
              "      <td>183.289993</td>\n",
              "      <td>20.760000</td>\n",
              "      <td>NaN</td>\n",
              "      <td>13.932692</td>\n",
              "      <td>9.4</td>\n",
              "      <td>40.910000</td>\n",
              "      <td>15.97</td>\n",
              "      <td>2.53</td>\n",
              "      <td>...</td>\n",
              "      <td>155.399994</td>\n",
              "      <td>NaN</td>\n",
              "      <td>68.320000</td>\n",
              "      <td>26.67</td>\n",
              "      <td>34.402279</td>\n",
              "      <td>NaN</td>\n",
              "      <td>1.96</td>\n",
              "      <td>6.70</td>\n",
              "      <td>NaN</td>\n",
              "      <td>79.690002</td>\n",
              "      <td>130.199997</td>\n",
              "      <td>10.27</td>\n",
              "      <td>11.88</td>\n",
              "      <td>39.490002</td>\n",
              "      <td>56.139999</td>\n",
              "      <td>2.94</td>\n",
              "      <td>137.000000</td>\n",
              "      <td>6.27</td>\n",
              "      <td>17.450001</td>\n",
              "      <td>NaN</td>\n",
              "      <td>50.230000</td>\n",
              "      <td>48.799999</td>\n",
              "      <td>10.02</td>\n",
              "      <td>274.709992</td>\n",
              "      <td>44.860001</td>\n",
              "      <td>36.720001</td>\n",
              "      <td>NaN</td>\n",
              "      <td>340.0</td>\n",
              "      <td>70.410004</td>\n",
              "      <td>32.660000</td>\n",
              "      <td>5.37</td>\n",
              "      <td>67.570000</td>\n",
              "      <td>NaN</td>\n",
              "      <td>252.490006</td>\n",
              "      <td>3.19</td>\n",
              "      <td>92.889999</td>\n",
              "      <td>77.529999</td>\n",
              "      <td>NaN</td>\n",
              "      <td>3.60</td>\n",
              "      <td>2.06</td>\n",
              "    </tr>\n",
              "    <tr>\n",
              "      <th>3</th>\n",
              "      <td>2/26/2018</td>\n",
              "      <td>55.000000</td>\n",
              "      <td>44.742500</td>\n",
              "      <td>NaN</td>\n",
              "      <td>96.480003</td>\n",
              "      <td>12.42</td>\n",
              "      <td>1521.949951</td>\n",
              "      <td>10.170</td>\n",
              "      <td>42.360001</td>\n",
              "      <td>34.189999</td>\n",
              "      <td>363.480011</td>\n",
              "      <td>194.190002</td>\n",
              "      <td>32.419998</td>\n",
              "      <td>NaN</td>\n",
              "      <td>3.05</td>\n",
              "      <td>NaN</td>\n",
              "      <td>NaN</td>\n",
              "      <td>19.049999</td>\n",
              "      <td>NaN</td>\n",
              "      <td>NaN</td>\n",
              "      <td>68.639999</td>\n",
              "      <td>21.549999</td>\n",
              "      <td>192.809998</td>\n",
              "      <td>3.19</td>\n",
              "      <td>NaN</td>\n",
              "      <td>NaN</td>\n",
              "      <td>54.689999</td>\n",
              "      <td>109.809998</td>\n",
              "      <td>NaN</td>\n",
              "      <td>0.49</td>\n",
              "      <td>16.340000</td>\n",
              "      <td>10.89</td>\n",
              "      <td>184.929993</td>\n",
              "      <td>20.520000</td>\n",
              "      <td>NaN</td>\n",
              "      <td>14.086538</td>\n",
              "      <td>9.2</td>\n",
              "      <td>41.540001</td>\n",
              "      <td>16.08</td>\n",
              "      <td>2.59</td>\n",
              "      <td>...</td>\n",
              "      <td>157.199997</td>\n",
              "      <td>NaN</td>\n",
              "      <td>67.269997</td>\n",
              "      <td>27.18</td>\n",
              "      <td>35.189754</td>\n",
              "      <td>NaN</td>\n",
              "      <td>1.96</td>\n",
              "      <td>6.72</td>\n",
              "      <td>NaN</td>\n",
              "      <td>79.349998</td>\n",
              "      <td>130.399994</td>\n",
              "      <td>9.90</td>\n",
              "      <td>12.07</td>\n",
              "      <td>40.080002</td>\n",
              "      <td>57.169998</td>\n",
              "      <td>2.84</td>\n",
              "      <td>136.270004</td>\n",
              "      <td>6.33</td>\n",
              "      <td>17.090000</td>\n",
              "      <td>NaN</td>\n",
              "      <td>50.919998</td>\n",
              "      <td>47.400002</td>\n",
              "      <td>10.03</td>\n",
              "      <td>277.899994</td>\n",
              "      <td>46.549999</td>\n",
              "      <td>37.459999</td>\n",
              "      <td>NaN</td>\n",
              "      <td>353.0</td>\n",
              "      <td>71.484001</td>\n",
              "      <td>32.160000</td>\n",
              "      <td>5.42</td>\n",
              "      <td>69.260002</td>\n",
              "      <td>NaN</td>\n",
              "      <td>255.399994</td>\n",
              "      <td>3.21</td>\n",
              "      <td>93.120003</td>\n",
              "      <td>78.839996</td>\n",
              "      <td>NaN</td>\n",
              "      <td>3.61</td>\n",
              "      <td>2.03</td>\n",
              "    </tr>\n",
              "    <tr>\n",
              "      <th>4</th>\n",
              "      <td>2/27/2018</td>\n",
              "      <td>54.259998</td>\n",
              "      <td>44.597500</td>\n",
              "      <td>NaN</td>\n",
              "      <td>93.000000</td>\n",
              "      <td>12.53</td>\n",
              "      <td>1511.979980</td>\n",
              "      <td>9.705</td>\n",
              "      <td>41.689999</td>\n",
              "      <td>33.849998</td>\n",
              "      <td>364.640015</td>\n",
              "      <td>188.259995</td>\n",
              "      <td>32.330002</td>\n",
              "      <td>NaN</td>\n",
              "      <td>2.97</td>\n",
              "      <td>NaN</td>\n",
              "      <td>NaN</td>\n",
              "      <td>18.480000</td>\n",
              "      <td>NaN</td>\n",
              "      <td>NaN</td>\n",
              "      <td>67.489998</td>\n",
              "      <td>20.636000</td>\n",
              "      <td>190.100006</td>\n",
              "      <td>3.17</td>\n",
              "      <td>7.62</td>\n",
              "      <td>NaN</td>\n",
              "      <td>53.619999</td>\n",
              "      <td>104.870003</td>\n",
              "      <td>NaN</td>\n",
              "      <td>0.48</td>\n",
              "      <td>15.950000</td>\n",
              "      <td>10.61</td>\n",
              "      <td>181.460007</td>\n",
              "      <td>19.559999</td>\n",
              "      <td>NaN</td>\n",
              "      <td>13.942308</td>\n",
              "      <td>9.4</td>\n",
              "      <td>40.169998</td>\n",
              "      <td>15.57</td>\n",
              "      <td>2.49</td>\n",
              "      <td>...</td>\n",
              "      <td>156.000000</td>\n",
              "      <td>NaN</td>\n",
              "      <td>66.750000</td>\n",
              "      <td>26.35</td>\n",
              "      <td>34.914612</td>\n",
              "      <td>NaN</td>\n",
              "      <td>1.90</td>\n",
              "      <td>6.64</td>\n",
              "      <td>NaN</td>\n",
              "      <td>79.459999</td>\n",
              "      <td>128.860001</td>\n",
              "      <td>9.96</td>\n",
              "      <td>11.99</td>\n",
              "      <td>38.750000</td>\n",
              "      <td>56.570000</td>\n",
              "      <td>2.85</td>\n",
              "      <td>137.660004</td>\n",
              "      <td>6.29</td>\n",
              "      <td>16.320000</td>\n",
              "      <td>NaN</td>\n",
              "      <td>50.270000</td>\n",
              "      <td>49.500000</td>\n",
              "      <td>10.02</td>\n",
              "      <td>274.429993</td>\n",
              "      <td>45.910000</td>\n",
              "      <td>36.869999</td>\n",
              "      <td>NaN</td>\n",
              "      <td>347.0</td>\n",
              "      <td>70.197998</td>\n",
              "      <td>31.320000</td>\n",
              "      <td>5.27</td>\n",
              "      <td>67.860001</td>\n",
              "      <td>NaN</td>\n",
              "      <td>252.139999</td>\n",
              "      <td>3.20</td>\n",
              "      <td>91.519997</td>\n",
              "      <td>77.500000</td>\n",
              "      <td>NaN</td>\n",
              "      <td>3.50</td>\n",
              "      <td>2.10</td>\n",
              "    </tr>\n",
              "  </tbody>\n",
              "</table>\n",
              "<p>5 rows × 109 columns</p>\n",
              "</div>"
            ],
            "text/plain": [
              "        Date        AAL       AAPL  ABNB  ...        XOM  ZM  ZNGA   ZOM\n",
              "0  2/21/2018  52.779999  42.767502   NaN  ...  74.889999 NaN  3.56  2.07\n",
              "1  2/22/2018  52.980000  43.125000   NaN  ...  75.860001 NaN  3.52  2.16\n",
              "2  2/23/2018  53.389999  43.875000   NaN  ...  77.529999 NaN  3.60  2.06\n",
              "3  2/26/2018  55.000000  44.742500   NaN  ...  78.839996 NaN  3.61  2.03\n",
              "4  2/27/2018  54.259998  44.597500   NaN  ...  77.500000 NaN  3.50  2.10\n",
              "\n",
              "[5 rows x 109 columns]"
            ]
          },
          "metadata": {
            "tags": []
          },
          "execution_count": 67
        }
      ]
    },
    {
      "cell_type": "code",
      "metadata": {
        "id": "KJ9AqOqYwZX4"
      },
      "source": [
        "#Set the date as index\r\n",
        "df = df.set_index(pd.DatetimeIndex(df['Date'].values))\r\n",
        "\r\n",
        "#Removing column date\r\n",
        "df.drop(columns=['Date'], axis=1, inplace = True)"
      ],
      "execution_count": 68,
      "outputs": []
    },
    {
      "cell_type": "code",
      "metadata": {
        "id": "22cal1vBwgGW"
      },
      "source": [
        "#Optimize the portfolio\r\n",
        "from pypfopt.efficient_frontier import EfficientFrontier \r\n",
        "from pypfopt import risk_models\r\n",
        "from pypfopt import expected_returns\r\n",
        "from pypfopt.cla import CLA\r\n",
        "from pypfopt import discrete_allocation\r\n",
        "import pypfopt.plotting as pplt"
      ],
      "execution_count": 69,
      "outputs": []
    },
    {
      "cell_type": "code",
      "metadata": {
        "id": "xpukCJi7wjcR"
      },
      "source": [
        "#Calculate the expected annualized returns\r\n",
        "mu = expected_returns.mean_historical_return(df)"
      ],
      "execution_count": 70,
      "outputs": []
    },
    {
      "cell_type": "code",
      "metadata": {
        "colab": {
          "base_uri": "https://localhost:8080/"
        },
        "id": "GLTCsaCEwmmE",
        "outputId": "765c25d6-b3af-4fed-849d-fbc259beda2b"
      },
      "source": [
        "#Calculate the annualized sample covariance matrix of the daily asset returns\r\n",
        "S = risk_models.sample_cov(df)"
      ],
      "execution_count": 71,
      "outputs": [
        {
          "output_type": "stream",
          "text": [
            "/usr/local/lib/python3.6/dist-packages/pypfopt/risk_models.py:69: UserWarning: The covariance matrix is non positive semidefinite. Amending eigenvalues.\n",
            "  \"The covariance matrix is non positive semidefinite. Amending eigenvalues.\"\n",
            "/usr/local/lib/python3.6/dist-packages/pypfopt/risk_models.py:88: UserWarning: Could not fix matrix. Please try a different risk model.\n",
            "  \"Could not fix matrix. Please try a different risk model.\", UserWarning\n"
          ],
          "name": "stderr"
        }
      ]
    },
    {
      "cell_type": "code",
      "metadata": {
        "id": "Mlt9YGdiwsHl"
      },
      "source": [
        "ef = EfficientFrontier(mu, S) #creates the efficient frontier object\r\n",
        "weights = ef.max_sharpe() #maximize the sharpe ratio and produce the raw weights\r\n",
        "\r\n",
        "cleaned_weights = ef.clean_weights() #Helper method to clean the clean (absolute value and rounding) the raw weights\r\n"
      ],
      "execution_count": 72,
      "outputs": []
    },
    {
      "cell_type": "code",
      "metadata": {
        "colab": {
          "base_uri": "https://localhost:8080/"
        },
        "id": "HcynVPeR4sIL",
        "outputId": "0d55c5b5-f10b-4ead-ccfc-a30fcd0fcdd9"
      },
      "source": [
        "print(cleaned_weights)\r\n",
        "print('\\n')"
      ],
      "execution_count": 73,
      "outputs": [
        {
          "output_type": "stream",
          "text": [
            "OrderedDict([('AAL', 0.0), ('AAPL', 0.0), ('ABNB', 0.11705), ('ACB', 0.0), ('AMD', 0.0), ('AMZN', 0.0), ('APHA', 0.0), ('ARKK', 0.0), ('AZN', 0.0), ('BA', 0.0), ('BABA', 0.0), ('BAC', 0.0), ('BIOX', 0.0), ('BLNK', 0.0), ('BNGO', 0.0), ('BNTX', 0.0), ('BYDDY', 0.0), ('BYND', 0.0), ('CCIV', 0.48235), ('CCL', 0.0), ('CGC', 0.0), ('COST', 0.0), ('CPRX', 0.0), ('CRON', 0.0), ('CTRM', 0.0), ('DAL', 0.0), ('DIS', 0.0), ('DKNG', 0.0), ('DNN', 0.0), ('ET', 0.0), ('F', 0.0), ('FB', 0.0), ('FCEL', 0.0), ('FUBO', 0.0), ('GE', 0.0), ('GEVO', 0.0), ('GM', 0.0), ('GME', 0.0), ('GNUS', 0.00122), ('GOOGL', 0.0), ('GPRO', 0.0), ('GRWG', 0.0), ('GSAT', 0.0), ('HEXO', 0.0), ('IDEX', 0.0), ('ILMN', 0.0), ('INO', 0.00226), ('IVR', 0.00882), ('JBLU', 0.0), ('JMIA', 0.0), ('JNJ', 0.0), ('KO', 0.0), ('LMND', 0.0), ('LU', 0.01054), ('LUV', 0.0), ('MARA', 0.0), ('MGM', 0.0), ('MRNA', 0.0), ('MRO', 0.0), ('MSFT', 0.0), ('NAK', 0.0), ('NCLH', 0.0), ('NFLX', 0.0), ('NIO', 0.0), ('NKE', 0.0), ('NNDM', 0.0), ('NRZ', 0.0), ('NVDA', 0.0), ('OCGN', 0.0), ('OGI', 0.0), ('OXY', 0.0), ('PENN', 0.0), ('PFE', 0.0), ('PLTR', 0.1598), ('PLUG', 0.0), ('PSEC', 0.0), ('PTON', 0.03311), ('PYPL', 0.0), ('RCL', 0.0), ('RIOT', 0.0), ('RYCEY', 0.0), ('SAVE', 0.0), ('SBUX', 0.0), ('SENS', 0.0), ('SHOP', 0.0), ('SIRI', 0.0), ('SNAP', 0.0), ('SNDL', 0.02987), ('SNE', 0.0), ('SOS', 0.0), ('SPCE', 0.0091), ('SPY', 0.0), ('SQ', 0.0), ('T', 0.0), ('TLRY', 0.0), ('TNXP', 0.0), ('TSLA', 0.0), ('TWTR', 0.0), ('TXMD', 0.0), ('UAL', 0.0), ('UBER', 0.0), ('VOO', 0.0), ('WKHS', 0.00731), ('WMT', 0.0), ('XOM', 0.0), ('ZM', 0.0), ('ZNGA', 0.13858), ('ZOM', 0.0)])\n",
            "\n",
            "\n"
          ],
          "name": "stdout"
        }
      ]
    },
    {
      "cell_type": "code",
      "metadata": {
        "colab": {
          "base_uri": "https://localhost:8080/",
          "height": 297
        },
        "id": "1iFoElGg5hFQ",
        "outputId": "f1627697-d9fe-4310-825b-02c38351ae7b"
      },
      "source": [
        "cl_obj = CLA(mu, S)\r\n",
        "\r\n",
        "#Plotting the Efficient Frontier and Optimizing Portfolio Allocation\r\n",
        "ax = pplt.plot_efficient_frontier(cl_obj, showfig = False)\r\n",
        "ax.xaxis.set_major_formatter(FuncFormatter(lambda x, _: '{:.0%}'.format(x)))\r\n",
        "ax.yaxis.set_major_formatter(FuncFormatter(lambda y, _: '{:.0%}'.format(y)))"
      ],
      "execution_count": 88,
      "outputs": [
        {
          "output_type": "display_data",
          "data": {
            "image/png": "[encoded data removed]",
            "text/plain": [
              "<Figure size 432x288 with 1 Axes>"
            ]
          },
          "metadata": {
            "tags": [],
            "needs_background": "light"
          }
        }
      ]
    },
    {
      "cell_type": "code",
      "metadata": {
        "colab": {
          "base_uri": "https://localhost:8080/"
        },
        "id": "D52J5tVWwyKe",
        "outputId": "feeee044-0e97-4b08-e420-e50b733fd393"
      },
      "source": [
        "# 2year risk free rate - Treasury Yield as of 02/19/2021\r\n",
        "ef.portfolio_performance(verbose=True, risk_free_rate = 0.0134)"
      ],
      "execution_count": 74,
      "outputs": [
        {
          "output_type": "stream",
          "text": [
            "Expected annual return: 3001.8%\n",
            "Annual volatility: 54.6%\n",
            "Sharpe Ratio: 54.96\n"
          ],
          "name": "stdout"
        },
        {
          "output_type": "stream",
          "text": [
            "/usr/local/lib/python3.6/dist-packages/pypfopt/efficient_frontier/efficient_frontier.py:407: UserWarning: The risk_free_rate provided to portfolio_performance is different to the one used by max_sharpe. Using the previous value.\n",
            "  UserWarning,\n"
          ],
          "name": "stderr"
        },
        {
          "output_type": "execute_result",
          "data": {
            "text/plain": [
              "(30.018377526672893, 0.5458077142519236, 54.961439245665936)"
            ]
          },
          "metadata": {
            "tags": []
          },
          "execution_count": 74
        }
      ]
    },
    {
      "cell_type": "code",
      "metadata": {
        "id": "pMW_2nxGw4TB"
      },
      "source": [
        "#Convert the weights into an actual allocation, telling investors how many shares of each asset you should purchase\r\n",
        "from pypfopt.discrete_allocation import DiscreteAllocation, get_latest_prices"
      ],
      "execution_count": 75,
      "outputs": []
    },
    {
      "cell_type": "code",
      "metadata": {
        "id": "XVVvGlJBw8EK"
      },
      "source": [
        "#Allocation of a $20,000 investment\r\n",
        "portfolio_val = 20000\r\n",
        "latest_prices = get_latest_prices(df)\r\n",
        "weights = cleaned_weights\r\n",
        "\r\n",
        "da = DiscreteAllocation(weights, latest_prices, total_portfolio_value = portfolio_val)\r\n",
        "allocation, leftover = da.lp_portfolio()"
      ],
      "execution_count": 76,
      "outputs": []
    },
    {
      "cell_type": "code",
      "metadata": {
        "colab": {
          "base_uri": "https://localhost:8080/"
        },
        "id": "cCTcR_z2xDqN",
        "outputId": "2cfed999-1821-4a96-d540-d5ac51114677"
      },
      "source": [
        "print('Number of Stock to Buy:', allocation)\r\n",
        "print('Remaining Funds: $', leftover)"
      ],
      "execution_count": 77,
      "outputs": [
        {
          "output_type": "stream",
          "text": [
            "Number of Stock to Buy: {'ABNB': 12, 'CCIV': 182, 'GNUS': 13, 'INO': 3, 'IVR': 45, 'LU': 12, 'PLTR': 110, 'PTON': 5, 'SNDL': 383, 'SPCE': 3, 'WKHS': 4, 'ZNGA': 227}\n",
            "Remaining Funds: $ 0.08007108500169124\n"
          ],
          "name": "stdout"
        }
      ]
    },
    {
      "cell_type": "code",
      "metadata": {
        "id": "l4zjL5Fzzjde"
      },
      "source": [
        "#Create a function to get the companies name\r\n",
        "def get_company_name(symbol):\r\n",
        "  url = 'http://d.yimg.com/autoc.finance.yahoo.com/autoc?query='+symbol+'&region=1&lang=en'\r\n",
        "  result = requests.get(url).json()\r\n",
        "  for r in result['ResultSet']['Result']:\r\n",
        "    if r['symbol']==symbol:\r\n",
        "      return r['name']"
      ],
      "execution_count": 78,
      "outputs": []
    },
    {
      "cell_type": "code",
      "metadata": {
        "id": "3Mxbzw-Q0sb_"
      },
      "source": [
        "\r\n",
        "company_name = []\r\n",
        "discrete_allocation_list = []\r\n",
        "for symbol in allocation:\r\n",
        "  #Store company name into a list\r\n",
        "  company_name.append(get_company_name(symbol))\r\n",
        "  #Get the discrete allocation values\r\n",
        "  discrete_allocation_list.append(allocation.get(symbol))"
      ],
      "execution_count": 79,
      "outputs": []
    },
    {
      "cell_type": "code",
      "metadata": {
        "id": "_ujZcZRX1Tce"
      },
      "source": [
        "#Create a dataframe for the portfolio\r\n",
        "portfolio_df = pd.DataFrame(columns=['Company Name','Ticker', 'Stock Allocated for $'+str(portfolio_val)])"
      ],
      "execution_count": 80,
      "outputs": []
    },
    {
      "cell_type": "code",
      "metadata": {
        "id": "inqRqqkU15xJ"
      },
      "source": [
        "portfolio_df['Company Name'] = company_name\r\n",
        "portfolio_df['Ticker'] = allocation\r\n",
        "portfolio_df['Stock Allocated for $'+str(portfolio_val)] = discrete_allocation_list"
      ],
      "execution_count": 81,
      "outputs": []
    },
    {
      "cell_type": "code",
      "metadata": {
        "colab": {
          "base_uri": "https://localhost:8080/",
          "height": 421
        },
        "id": "B8BqTVXi2uOH",
        "outputId": "151b4200-297a-4f87-f337-d56804e155db"
      },
      "source": [
        "#Display optimized portfolio\r\n",
        "portfolio_df"
      ],
      "execution_count": 82,
      "outputs": [
        {
          "output_type": "execute_result",
          "data": {
            "text/html": [
              "<div>\n",
              "<style scoped>\n",
              "    .dataframe tbody tr th:only-of-type {\n",
              "        vertical-align: middle;\n",
              "    }\n",
              "\n",
              "    .dataframe tbody tr th {\n",
              "        vertical-align: top;\n",
              "    }\n",
              "\n",
              "    .dataframe thead th {\n",
              "        text-align: right;\n",
              "    }\n",
              "</style>\n",
              "<table border=\"1\" class=\"dataframe\">\n",
              "  <thead>\n",
              "    <tr style=\"text-align: right;\">\n",
              "      <th></th>\n",
              "      <th>Company Name</th>\n",
              "      <th>Ticker</th>\n",
              "      <th>Stock Allocated for $20000</th>\n",
              "    </tr>\n",
              "  </thead>\n",
              "  <tbody>\n",
              "    <tr>\n",
              "      <th>0</th>\n",
              "      <td>Airbnb, Inc.</td>\n",
              "      <td>ABNB</td>\n",
              "      <td>12</td>\n",
              "    </tr>\n",
              "    <tr>\n",
              "      <th>1</th>\n",
              "      <td>Churchill Capital Corp IV</td>\n",
              "      <td>CCIV</td>\n",
              "      <td>182</td>\n",
              "    </tr>\n",
              "    <tr>\n",
              "      <th>2</th>\n",
              "      <td>Genius Brands International, Inc.</td>\n",
              "      <td>GNUS</td>\n",
              "      <td>13</td>\n",
              "    </tr>\n",
              "    <tr>\n",
              "      <th>3</th>\n",
              "      <td>Inovio Pharmaceuticals, Inc.</td>\n",
              "      <td>INO</td>\n",
              "      <td>3</td>\n",
              "    </tr>\n",
              "    <tr>\n",
              "      <th>4</th>\n",
              "      <td>Invesco Mortgage Capital Inc.</td>\n",
              "      <td>IVR</td>\n",
              "      <td>45</td>\n",
              "    </tr>\n",
              "    <tr>\n",
              "      <th>5</th>\n",
              "      <td>Lufax Holding Ltd</td>\n",
              "      <td>LU</td>\n",
              "      <td>12</td>\n",
              "    </tr>\n",
              "    <tr>\n",
              "      <th>6</th>\n",
              "      <td>Palantir Technologies Inc.</td>\n",
              "      <td>PLTR</td>\n",
              "      <td>110</td>\n",
              "    </tr>\n",
              "    <tr>\n",
              "      <th>7</th>\n",
              "      <td>Peloton Interactive, Inc.</td>\n",
              "      <td>PTON</td>\n",
              "      <td>5</td>\n",
              "    </tr>\n",
              "    <tr>\n",
              "      <th>8</th>\n",
              "      <td>Sundial Growers Inc.</td>\n",
              "      <td>SNDL</td>\n",
              "      <td>383</td>\n",
              "    </tr>\n",
              "    <tr>\n",
              "      <th>9</th>\n",
              "      <td>Virgin Galactic Holdings, Inc.</td>\n",
              "      <td>SPCE</td>\n",
              "      <td>3</td>\n",
              "    </tr>\n",
              "    <tr>\n",
              "      <th>10</th>\n",
              "      <td>Workhorse Group Inc.</td>\n",
              "      <td>WKHS</td>\n",
              "      <td>4</td>\n",
              "    </tr>\n",
              "    <tr>\n",
              "      <th>11</th>\n",
              "      <td>Zynga Inc.</td>\n",
              "      <td>ZNGA</td>\n",
              "      <td>227</td>\n",
              "    </tr>\n",
              "  </tbody>\n",
              "</table>\n",
              "</div>"
            ],
            "text/plain": [
              "                         Company Name Ticker  Stock Allocated for $20000\n",
              "0                        Airbnb, Inc.   ABNB                          12\n",
              "1           Churchill Capital Corp IV   CCIV                         182\n",
              "2   Genius Brands International, Inc.   GNUS                          13\n",
              "3        Inovio Pharmaceuticals, Inc.    INO                           3\n",
              "4       Invesco Mortgage Capital Inc.    IVR                          45\n",
              "5                   Lufax Holding Ltd     LU                          12\n",
              "6          Palantir Technologies Inc.   PLTR                         110\n",
              "7           Peloton Interactive, Inc.   PTON                           5\n",
              "8                Sundial Growers Inc.   SNDL                         383\n",
              "9      Virgin Galactic Holdings, Inc.   SPCE                           3\n",
              "10               Workhorse Group Inc.   WKHS                           4\n",
              "11                         Zynga Inc.   ZNGA                         227"
            ]
          },
          "metadata": {
            "tags": []
          },
          "execution_count": 82
        }
      ]
    },
    {
      "cell_type": "code",
      "metadata": {
        "id": "ImrnbtnYIY7J"
      },
      "source": [
        "portfolio_df.to_csv('OptimalPortfolio.csv', index = False, header=True)"
      ],
      "execution_count": 87,
      "outputs": []
    }
  ]
}
